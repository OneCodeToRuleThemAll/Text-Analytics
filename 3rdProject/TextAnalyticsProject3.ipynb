{
  "cells": [
    {
      "cell_type": "markdown",
      "metadata": {
        "id": "e0jAiJsPb_xN"
      },
      "source": [
        "Text Analytics Assignment 3 ( Sentiment Analysis)"
      ]
    },
    {
      "cell_type": "markdown",
      "metadata": {
        "id": "TqufFPzClfbX"
      },
      "source": [
        "##### Imports"
      ]
    },
    {
      "cell_type": "code",
      "execution_count": null,
      "metadata": {
        "colab": {
          "base_uri": "https://localhost:8080/"
        },
        "id": "xPqgErFSj2kY",
        "outputId": "5bf14493-beff-45ab-9ea5-4784716a5de1"
      },
      "outputs": [
        {
          "output_type": "stream",
          "name": "stdout",
          "text": [
            "\u001b[K     |████████████████████████████████| 462 kB 5.3 MB/s \n",
            "\u001b[K     |████████████████████████████████| 98 kB 3.1 MB/s \n",
            "\u001b[?25h"
          ]
        }
      ],
      "source": [
        "# Installing and checking keras tuner and tensorflow\n",
        "!pip install -q --upgrade tensorflow\n",
        "!pip install keras-tuner -q --upgrade"
      ]
    },
    {
      "cell_type": "code",
      "execution_count": null,
      "metadata": {
        "colab": {
          "base_uri": "https://localhost:8080/"
        },
        "id": "fOLjPnaHj9Cq",
        "outputId": "749cdf1b-8633-4ee7-9f25-83f7c7ec173f"
      },
      "outputs": [
        {
          "output_type": "stream",
          "name": "stdout",
          "text": [
            "1.10.0+cu111\n"
          ]
        }
      ],
      "source": [
        "#Verify Pytorch installation\n",
        "import torch\n",
        "print(torch.__version__)"
      ]
    },
    {
      "cell_type": "code",
      "execution_count": null,
      "metadata": {
        "colab": {
          "base_uri": "https://localhost:8080/"
        },
        "id": "GaXy2YvQj9g2",
        "outputId": "7d34ce03-e350-400f-9b77-f87c3fdab83e"
      },
      "outputs": [
        {
          "output_type": "stream",
          "name": "stdout",
          "text": [
            "2.8.0\n"
          ]
        }
      ],
      "source": [
        "# Verify Tensorflow  installation\n",
        "import tensorflow as tf\n",
        "print(tf.__version__)"
      ]
    },
    {
      "cell_type": "code",
      "execution_count": null,
      "metadata": {
        "id": "xl49vN3UetZK"
      },
      "outputs": [],
      "source": [
        "#Necessary Library Imports \n",
        "from tensorflow.keras.callbacks import ModelCheckpoint,EarlyStopping\n",
        "from tensorflow.keras.models import Sequential\n",
        "from tensorflow.keras.layers import Dense, Dropout\n",
        "from tensorflow.keras.optimizers import Adam\n",
        "from keras.wrappers.scikit_learn import KerasClassifier\n",
        "import keras_tuner as kt\n",
        "from tensorflow import keras\n",
        "import math \n",
        "import numpy as np\n",
        "import os\n",
        "from sklearn.dummy import DummyClassifier\n",
        "import pandas as pd\n",
        "import time\n",
        "from sklearn.metrics import f1_score\n",
        "from sklearn.model_selection import train_test_split\n",
        "from sklearn.model_selection import PredefinedSplit\n",
        "from sklearn.feature_extraction.text import TfidfVectorizer\n",
        "from nltk import WhitespaceTokenizer\n",
        "from sklearn.linear_model import LogisticRegression\n",
        "from sklearn.metrics import f1_score, accuracy_score,confusion_matrix,classification_report,plot_confusion_matrix, recall_score, precision_score\n",
        "from sklearn.model_selection import GridSearchCV\n",
        "from sklearn.model_selection import cross_val_score, KFold\n",
        "from sklearn.metrics import precision_recall_curve\n",
        "from sklearn.metrics import auc\n",
        "import matplotlib.pyplot as plt\n",
        "from sklearn.metrics import mean_squared_error\n",
        "from sklearn.metrics import mean_absolute_error\n",
        "import seaborn as sns\n",
        "from sklearn.metrics import roc_auc_score\n",
        "import csv\n",
        "import gzip\n",
        "import urllib.request\n",
        "import requests\n",
        "import nltk\n",
        "from nltk.corpus import stopwords\n",
        "from sklearn.manifold import TSNE\n",
        "from sklearn.decomposition import PCA, TruncatedSVD\n",
        "import re\n",
        "from nltk.stem import WordNetLemmatizer\n",
        "from sklearn.feature_selection import mutual_info_classif\n",
        "import warnings\n",
        "warnings.filterwarnings(\"ignore\")"
      ]
    },
    {
      "cell_type": "code",
      "source": [
        ""
      ],
      "metadata": {
        "id": "OsSL5HEetkxT"
      },
      "execution_count": null,
      "outputs": []
    },
    {
      "cell_type": "code",
      "execution_count": null,
      "metadata": {
        "id": "LSDX_5uPe29p"
      },
      "outputs": [],
      "source": [
        "#Downloading Stopwords & Dictionary\n",
        "nltk.download('stopwords',quiet=True)\n",
        "nltk.download('wordnet',quiet=True)\n",
        "\n",
        "#Downloading data(In compressed form) provided by Stanford University\n",
        "!wget -q  http://ai.stanford.edu/~amaas/data/sentiment/aclImdb_v1.tar.gz\n",
        "\n",
        "#Unzipping data\n",
        "!tar  xzf aclImdb_v1.tar.gz"
      ]
    },
    {
      "cell_type": "code",
      "execution_count": null,
      "metadata": {
        "id": "6ipkrcvAf0_T"
      },
      "outputs": [],
      "source": [
        "#Setting random seed so we can analyse results\n",
        "np.random.seed(365)"
      ]
    },
    {
      "cell_type": "markdown",
      "metadata": {
        "id": "EkeQXIThlkVk"
      },
      "source": [
        "##### Loading Data"
      ]
    },
    {
      "cell_type": "code",
      "execution_count": null,
      "metadata": {
        "id": "5Vqabttaf2y-"
      },
      "outputs": [],
      "source": [
        "#Initializing Function to load data\n",
        "def load_train_test_imdb_data(data_dir):\n",
        "    \"\"\"Loads the IMDB train/test datasets from a folder path.\n",
        "    Input:\n",
        "    data_dir: path to the \"aclImdb\" folder.\n",
        "    \n",
        "    Returns:\n",
        "    train/test datasets as pandas dataframes.\n",
        "    \"\"\"\n",
        "\n",
        "    data = {}\n",
        "    for split in [\"train\", \"test\"]:\n",
        "        data[split] = []\n",
        "        for sentiment in [\"neg\", \"pos\"]:\n",
        "          #Renaming sentiment to values \n",
        "            score = 1 if sentiment == \"pos\" else 0\n",
        "\n",
        "            path = os.path.join(data_dir, split, sentiment)\n",
        "            file_names = os.listdir(path)\n",
        "            for f_name in file_names:\n",
        "                with open(os.path.join(path, f_name), \"r\") as f:\n",
        "                    review = f.read()\n",
        "                    data[split].append([review, score])\n",
        "    #Shuffling train data\n",
        "    np.random.shuffle(data[\"train\"])        \n",
        "    data[\"train\"] = pd.DataFrame(data[\"train\"],\n",
        "                                 columns=['text', 'sentiment'])\n",
        "     #Shuffling test data\n",
        "    np.random.shuffle(data[\"test\"])\n",
        "    data[\"test\"] = pd.DataFrame(data[\"test\"],\n",
        "                                columns=['text', 'sentiment'])\n",
        "    return data[\"train\"], data[\"test\"] "
      ]
    },
    {
      "cell_type": "code",
      "execution_count": null,
      "metadata": {
        "id": "dCOIDNlcf4gM"
      },
      "outputs": [],
      "source": [
        "# Loading the data into train,test\n",
        "train_data, test_data = load_train_test_imdb_data(\n",
        "    data_dir=\"aclImdb/\")"
      ]
    },
    {
      "cell_type": "code",
      "execution_count": null,
      "metadata": {
        "id": "dHdjpchFgFwO"
      },
      "outputs": [],
      "source": [
        "#Combining them together\n",
        "newdf=pd.concat([train_data,test_data],ignore_index=True)"
      ]
    },
    {
      "cell_type": "markdown",
      "metadata": {
        "id": "3t4pxIgelsla"
      },
      "source": [
        "##### Preprocessing + Learning Curves Function"
      ]
    },
    {
      "cell_type": "code",
      "execution_count": null,
      "metadata": {
        "colab": {
          "base_uri": "https://localhost:8080/"
        },
        "id": "cZqzm-iIgHWE",
        "outputId": "13a7b2ac-7dfa-40fe-e791-229dc65e897b"
      },
      "outputs": [
        {
          "output_type": "stream",
          "name": "stdout",
          "text": [
            "Train length 35000\n",
            "Dev length 6000\n",
            "Test length 9000\n"
          ]
        }
      ],
      "source": [
        "#Splitting our dataset into train & test\n",
        "train_data,test_data = train_test_split(newdf,train_size=0.7,random_state=1)\n",
        "\n",
        "#Splitting our test set into dev & test \n",
        "dev_data,test_data = train_test_split(test_data, test_size =  0.6 ,random_state=1)\n",
        "\n",
        "#Checking lengths\n",
        "print('Train length',train_data.shape[0])\n",
        "print('Dev length',dev_data.shape[0])\n",
        "print('Test length',test_data.shape[0])"
      ]
    },
    {
      "cell_type": "code",
      "execution_count": null,
      "metadata": {
        "colab": {
          "base_uri": "https://localhost:8080/"
        },
        "id": "pmKMPsqXgJDL",
        "outputId": "13c3f063-b3e3-45b8-a853-f6e79c087954"
      },
      "outputs": [
        {
          "output_type": "stream",
          "name": "stdout",
          "text": [
            "We have an average of  231 words per review for the train set.\n"
          ]
        }
      ],
      "source": [
        "#Average train document length\n",
        "train_data['countWords'] = train_data.text.str.count(' ') + 1\n",
        "average=train_data.countWords.sum()/len(train_data)\n",
        "print('We have an average of ',round(average),'words per review for the train set.')"
      ]
    },
    {
      "cell_type": "code",
      "execution_count": null,
      "metadata": {
        "id": "WMyKrtzngLKz"
      },
      "outputs": [],
      "source": [
        "#Init lemmatizer\n",
        "lemmzer = WordNetLemmatizer() "
      ]
    },
    {
      "cell_type": "code",
      "execution_count": null,
      "metadata": {
        "id": "ZGwyJ08IgM4t"
      },
      "outputs": [],
      "source": [
        "#Preprocessing Function\n",
        "def prep(corpus): # fun to preprocess the corpus # allagi \n",
        "  corpus= corpus.apply(lambda x:x.lower()) #Lowercase\n",
        "  corpus= corpus.apply(lambda x:re.sub(r'<.*?>', ' ', x)) #Remove html tags\n",
        "  corpus= corpus.apply(lambda x: re.sub(r'\\W', ' ', str(x))) #Remove punctuation\n",
        "  corpus= corpus.apply(lambda x:re.sub('\\d+', ' ', x)) #Remove numbers\n",
        "  corpus= corpus.apply(lambda x:re.sub(r'\\s+[a-zA-Z]\\s+', ' ', x)) #Remove single characters\n",
        "  corpus= corpus.apply(lambda x:re.sub(r'\\s+', ' ',x)) #Remove multiple spaces\n",
        "  corpus= corpus.apply(lambda x:[lemmzer.lemmatize(word) for word in x.split()]) #Running Lemmatizer by splitting the sentences into words\n",
        "  corpus= corpus.apply(lambda x:' '.join(x)) #Re-forming the previously split sentences\n",
        "  return corpus"
      ]
    },
    {
      "cell_type": "code",
      "execution_count": null,
      "metadata": {
        "id": "CRMAg8bbgOTw"
      },
      "outputs": [],
      "source": [
        "#Running prep on our dataset\n",
        "train_data.text=prep(train_data.text)\n",
        "dev_data.text=prep(dev_data.text)\n",
        "test_data.text = prep(test_data.text)\n",
        "\n",
        "#Renaming our target values\n",
        "y_train = train_data.sentiment\n",
        "y_dev = dev_data.sentiment\n",
        "y_test = test_data.sentiment"
      ]
    },
    {
      "cell_type": "code",
      "execution_count": null,
      "metadata": {
        "id": "HPV2-rgEgPws"
      },
      "outputs": [],
      "source": [
        "#Init TFIDF\n",
        "vectorizer = TfidfVectorizer(\n",
        "    ngram_range = (1, 2), \n",
        "    max_features = 7500,\n",
        "    sublinear_tf = True, \n",
        "    stop_words = stopwords.words('english'))"
      ]
    },
    {
      "cell_type": "code",
      "execution_count": null,
      "metadata": {
        "id": "yKTkKl9vgRXz",
        "colab": {
          "base_uri": "https://localhost:8080/"
        },
        "outputId": "3db28a25-2785-4f45-c682-95df33560d5d"
      },
      "outputs": [
        {
          "output_type": "stream",
          "name": "stdout",
          "text": [
            "Train dataset's vocabulary size is 77754 words long.\n"
          ]
        }
      ],
      "source": [
        "#Vocabulary Size\n",
        "VocabSize = TfidfVectorizer( \n",
        "    sublinear_tf = True, \n",
        "    stop_words = stopwords.words('english'))\n",
        "vocabsize = VocabSize.fit_transform(train_data.text)\n",
        "print(\"Train dataset's vocabulary size is\",vocabsize.shape[1],\"words long.\")"
      ]
    },
    {
      "cell_type": "code",
      "execution_count": null,
      "metadata": {
        "id": "V74la8NkgTD0"
      },
      "outputs": [],
      "source": [
        "#Dataframe with train and dev data for our Grid Search\n",
        "param=pd.concat([train_data,dev_data],axis=0)\n",
        "y_param=param.sentiment"
      ]
    },
    {
      "cell_type": "code",
      "execution_count": null,
      "metadata": {
        "id": "_QfPzdG_gUc1",
        "colab": {
          "base_uri": "https://localhost:8080/"
        },
        "outputId": "39a9ee9e-2c36-45a8-d36f-247661ba993d"
      },
      "outputs": [
        {
          "output_type": "stream",
          "name": "stdout",
          "text": [
            "['aaron', 'abandon', 'abandoned', 'abc', 'ability', 'able', 'able see', 'aboard', 'abortion', 'abraham', 'abrupt', 'abruptly', 'absence', 'absent', 'absolute', 'absolutely', 'absolutely nothing', 'absurd', 'absurdity', 'abuse', 'abused', 'abusive', 'abysmal', 'academy', 'academy award', 'accent', 'accept', 'acceptable', 'acceptance', 'accepted', 'accepts', 'access', 'accident', 'accidentally', 'acclaimed', 'accompanied', 'accomplish', 'accomplished', 'according', 'account', 'accuracy', 'accurate', 'accurately', 'accused', 'ace', 'achieve', 'achieved', 'achievement', 'acid', 'across', 'act', 'act like', 'acted', 'acting', 'acting ability', 'acting bad', 'acting film', 'acting good', 'acting great', 'acting like', 'acting movie', 'acting talent', 'acting terrible', 'acting wa', 'action', 'action film', 'action flick', 'action movie', 'action scene', 'action sequence', 'active', 'activity', 'actor', 'actor actress', 'actor film', 'actor good', 'actor great', 'actor like', 'actor movie', 'actor play', 'actor played', 'actor playing', 'actor really', 'actor wa', 'actress', 'actual', 'actually', 'actually good', 'actually pretty', 'actually quite', 'actually wa', 'ad', 'adam', 'adam sandler', 'adaptation', 'adapted', 'add', 'added', 'addict', 'addicted', 'addiction', 'adding', 'addition', 'additional', 'address', 'adequate', 'admirable', 'admire', 'admirer', 'admit', 'admittedly', 'adolescent', 'adopted', 'adorable', 'adult', 'advance', 'advanced', 'advantage', 'adventure', 'advertising', 'advice', 'advise', 'aesthetic', 'affair', 'affect', 'affected', 'affection', 'affleck', 'afford', 'afghanistan', 'aforementioned', 'afraid', 'africa', 'african', 'african american', 'afternoon', 'afterward', 'afterwards', 'age', 'aged', 'agency', 'agenda', 'agent', 'aging', 'ago', 'ago wa', 'agree', 'agreed', 'agrees', 'ah', 'ahead', 'ahead time', 'aid', 'aim', 'aimed', 'air', 'air force', 'aired', 'airplane', 'airport', 'aka', 'akin', 'akshay', 'al', 'al pacino', 'ala', 'alan', 'albeit', 'albert', 'album', 'alcohol', 'alcoholic', 'alec', 'alert', 'alex', 'alexander', 'alfred', 'ali', 'alice', 'alien', 'alike', 'alive', 'allen', 'alley', 'allow', 'allowed', 'allowing', 'allows', 'ally', 'almost', 'almost every', 'almost like', 'alone', 'along', 'along line', 'along way', 'alongside', 'already', 'already know', 'already seen', 'alright', 'also', 'also get', 'also good', 'also great', 'also ha', 'also like', 'also make', 'also one', 'also show', 'also starring', 'also think', 'also wa', 'alter', 'altered', 'alternate', 'alternative', 'although', 'although film', 'although wa', 'altman', 'altogether', 'always', 'amanda', 'amateur', 'amateurish', 'amazed', 'amazing', 'amazingly', 'amazon', 'ambiguity', 'ambiguous', 'ambition', 'ambitious', 'america', 'american', 'american film', 'american movie', 'american pie', 'amitabh', 'among', 'amongst', 'amount', 'amused', 'amusement', 'amusing', 'amy', 'analysis', 'anchor', 'ancient', 'anderson', 'andre', 'andrew', 'andy', 'angel', 'angela', 'angeles', 'anger', 'angle', 'angry', 'angst', 'animal', 'animated', 'animation', 'animator', 'anime', 'ann', 'anna', 'anne', 'annie', 'annoyed', 'annoying', 'another', 'another film', 'another great', 'another movie', 'another one', 'another thing', 'answer', 'answer question', 'answered', 'ant', 'antagonist', 'anthony', 'anti', 'antic', 'anticipation', 'antonio', 'antonioni', 'anybody', 'anymore', 'anyone', 'anyone could', 'anyone else', 'anyone ha', 'anyone know', 'anyone like', 'anyone would', 'anything', 'anything else', 'anything like', 'anyway', 'anyways', 'anywhere', 'apart', 'apartment', 'ape', 'apocalypse', 'apocalyptic', 'appalling', 'apparent', 'apparent reason', 'apparently', 'appeal', 'appealing', 'appear', 'appearance', 'appeared', 'appearing', 'appears', 'appreciate', 'appreciated', 'appreciation', 'approach', 'appropriate', 'appropriately', 'april', 'arab', 'arc', 'architect', 'area', 'argento', 'arguably', 'argue', 'argument', 'arm', 'armed', 'armstrong', 'army', 'arnold', 'around', 'around time', 'around world', 'arrest', 'arrested', 'arrival', 'arrive', 'arrived', 'arrives', 'arrogant', 'art', 'art film', 'art house', 'arthur', 'article', 'artificial', 'artist', 'artistic', 'artsy', 'ash', 'ashamed', 'ashley', 'asia', 'asian', 'aside', 'ask', 'asked', 'asking', 'asks', 'asleep', 'aspect', 'aspect film', 'aspiring', 'assassin', 'assassination', 'assault', 'asset', 'assigned', 'assignment', 'assistant', 'associate', 'associated', 'assume', 'assumed', 'assuming', 'astaire', 'astonishing', 'astounding', 'astronaut', 'asylum', 'atlantis', 'atmosphere', 'atmospheric', 'atrocious', 'atrocity', 'attached', 'attack', 'attacked', 'attacking', 'attempt', 'attempted', 'attempting', 'attend', 'attention', 'attitude', 'attorney', 'attract', 'attracted', 'attraction', 'attractive', 'audience', 'audience wa', 'audio', 'audition', 'aunt', 'aussie', 'austen', 'austin', 'australia', 'australian', 'authentic', 'authenticity', 'author', 'authority', 'automatically', 'available', 'available dvd', 'average', 'avoid', 'avoid cost', 'avoid movie', 'avoided', 'awake', 'award', 'award winning', 'aware', 'away', 'away movie', 'awe', 'awesome', 'awful', 'awful film', 'awful movie', 'awfully', 'awhile', 'awkward', 'axe', 'babe', 'baby', 'back', 'back day', 'back forth', 'back home', 'back life', 'back story', 'back time', 'back wa', 'backdrop', 'background', 'backwards', 'bacon', 'bad', 'bad acting', 'bad actor', 'bad bad', 'bad enough', 'bad even', 'bad film', 'bad good', 'bad guy', 'bad movie', 'bad one', 'bad plot', 'bad really', 'bad script', 'bad taste', 'bad thing', 'bad wa', 'baddie', 'badly', 'bag', 'baker', 'balance', 'balanced', 'baldwin', 'ball', 'ballet', 'bam', 'banal', 'band', 'bandit', 'bang', 'bank', 'banned', 'bar', 'barbara', 'bare', 'barely', 'bargain', 'barker', 'barney', 'barrel', 'barry', 'barrymore', 'base', 'baseball', 'based', 'based true', 'basement', 'basic', 'basically', 'basis', 'basketball', 'bat', 'bates', 'bath', 'bathroom', 'batman', 'battle', 'battle scene', 'bay', 'bbc', 'beach', 'bean', 'bear', 'beast', 'beat', 'beaten', 'beating', 'beatty', 'beautiful', 'beautiful film', 'beautiful woman', 'beautifully', 'beauty', 'became', 'become', 'becomes', 'becoming', 'bed', 'bedroom', 'beer', 'began', 'begin', 'beginning', 'beginning end', 'beginning film', 'beginning movie', 'behave', 'behavior', 'behaviour', 'behind', 'behind scene', 'bela', 'belief', 'believable', 'believe', 'believe movie', 'believe wa', 'believed', 'believer', 'believing', 'bell', 'belly', 'belong', 'belongs', 'beloved', 'belt', 'belushi', 'ben', 'beneath', 'benefit', 'bennett', 'bent', 'bergman', 'berlin', 'bernard', 'beside', 'besides', 'best', 'best actor', 'best ever', 'best film', 'best friend', 'best known', 'best movie', 'best one', 'best part', 'best performance', 'best picture', 'best role', 'best scene', 'best thing', 'best way', 'best work', 'bet', 'betrayal', 'bette', 'better', 'better film', 'better job', 'better movie', 'better one', 'better way', 'bettie', 'betty', 'beverly', 'beware', 'beyond', 'biased', 'bible', 'biblical', 'big', 'big budget', 'big deal', 'big fan', 'big name', 'big screen', 'big time', 'bigger', 'biggest', 'biggest problem', 'bike', 'bikini', 'bill', 'billed', 'billy', 'bin', 'biography', 'biopic', 'bird', 'birth', 'birthday', 'bit', 'bit much', 'bitch', 'bite', 'biting', 'bitten', 'bitter', 'bizarre', 'black', 'black comedy', 'black man', 'black white', 'blade', 'blah', 'blah blah', 'blair', 'blair witch', 'blake', 'blame', 'bland', 'blank', 'blast', 'blatant', 'blatantly', 'bleak', 'blend', 'blew', 'blind', 'blob', 'block', 'blockbuster', 'blond', 'blonde', 'blood', 'blood gore', 'bloody', 'blow', 'blowing', 'blown', 'blown away', 'blue', 'blunt', 'bo', 'board', 'boast', 'boat', 'bob', 'bobby', 'body', 'bogart', 'bold', 'boll', 'bollywood', 'bomb', 'bombing', 'bond', 'bone', 'bonnie', 'bonus', 'boob', 'book', 'book movie', 'book wa', 'boom', 'boot', 'booth', 'border', 'bore', 'bored', 'boredom', 'boring', 'boring movie', 'boris', 'born', 'borrowed', 'bos', 'boston', 'bother', 'bothered', 'bottle', 'bottom', 'bottom line', 'bought', 'bought dvd', 'bound', 'bounty', 'bourne', 'bow', 'bowl', 'box', 'box office', 'boxer', 'boxing', 'boy', 'boy wa', 'boyfriend', 'brad', 'brad pitt', 'brady', 'brain', 'branagh', 'brand', 'brando', 'brat', 'brave', 'bravo', 'brazil', 'break', 'breakdown', 'breaking', 'breast', 'breath', 'breathtaking', 'breed', 'brenda', 'brian', 'bride', 'bridge', 'brief', 'briefly', 'bright', 'brilliance', 'brilliant', 'brilliantly', 'bring', 'bring back', 'bringing', 'brings', 'brit', 'britain', 'british', 'british film', 'broad', 'broadcast', 'broadway', 'broke', 'broken', 'bronson', 'brook', 'brooklyn', 'brosnan', 'brother', 'brought', 'brought back', 'brown', 'bruce', 'bruce willis', 'bruno', 'brutal', 'brutality', 'brutally', 'btw', 'buck', 'bucket', 'bud', 'buddy', 'budget', 'budget film', 'budget horror', 'budget movie', 'buff', 'buffalo', 'bug', 'build', 'building', 'built', 'bull', 'bullet', 'bullock', 'bully', 'bumbling', 'bump', 'bunch', 'bunny', 'buried', 'burn', 'burned', 'burning', 'burst', 'burt', 'burt reynolds', 'burton', 'bus', 'busey', 'bush', 'business', 'businessman', 'buster', 'busy', 'butcher', 'butler', 'butt', 'button', 'buy', 'buying', 'cab', 'cabin', 'cable', 'cage', 'cagney', 'caine', 'cake', 'caliber', 'california', 'call', 'called', 'calling', 'calm', 'came', 'came across', 'cameo', 'camera', 'camera angle', 'camera work', 'cameraman', 'cameron', 'camp', 'campaign', 'campbell', 'campy', 'canada', 'canadian', 'cancer', 'candidate', 'candle', 'candy', 'cannes', 'cannibal', 'cannon', 'cannot', 'cannot believe', 'cant', 'capable', 'caper', 'capital', 'captain', 'captivating', 'capture', 'captured', 'capturing', 'car', 'car chase', 'card', 'cardboard', 'care', 'care character', 'cared', 'career', 'careful', 'carefully', 'carell', 'carey', 'caricature', 'caring', 'carl', 'carlos', 'carmen', 'carol', 'carpenter', 'carradine', 'carrey', 'carrie', 'carried', 'carry', 'carrying', 'carter', 'cartoon', 'cary', 'case', 'casey', 'cash', 'casino', 'cassavetes', 'cast', 'cast crew', 'cast member', 'cast wa', 'casting', 'castle', 'casual', 'cat', 'catch', 'catching', 'catchy', 'category', 'catherine', 'catholic', 'caught', 'cause', 'caused', 'causing', 'cave', 'cd', 'celebrity', 'cell', 'cell phone', 'celluloid', 'cemetery', 'cent', 'center', 'centered', 'central', 'central character', 'centre', 'century', 'certain', 'certainly', 'certainly one', 'cg', 'cgi', 'chain', 'chainsaw', 'chair', 'challenge', 'challenged', 'challenging', 'champion', 'championship', 'chan', 'chance', 'chance see', 'change', 'changed', 'changing', 'channel', 'chaos', 'chaplin', 'chapter', 'character', 'character actor', 'character also', 'character come', 'character could', 'character development', 'character even', 'character film', 'character get', 'character ha', 'character like', 'character make', 'character movie', 'character one', 'character played', 'character plot', 'character really', 'character story', 'character study', 'character wa', 'character well', 'character would', 'characterisation', 'characteristic', 'characterization', 'charge', 'charged', 'charisma', 'charismatic', 'charles', 'charlie', 'charlotte', 'charm', 'charming', 'chase', 'chase scene', 'chased', 'chasing', 'che', 'cheap', 'cheat', 'cheated', 'cheating', 'check', 'checked', 'checking', 'cheek', 'cheer', 'cheese', 'cheesy', 'chemistry', 'chess', 'chest', 'chew', 'chicago', 'chick', 'chick flick', 'chicken', 'chief', 'child', 'childhood', 'childish', 'chill', 'chilling', 'china', 'chinese', 'chip', 'choice', 'choose', 'chooses', 'choosing', 'chop', 'choppy', 'choreographed', 'choreography', 'chorus', 'chose', 'chosen', 'chris', 'christ', 'christian', 'christianity', 'christie', 'christina', 'christine', 'christmas', 'christopher', 'christopher walken', 'chronicle', 'chuck', 'chuckle', 'church', 'cia', 'cigarette', 'cinderella', 'cinema', 'cinematic', 'cinematographer', 'cinematography', 'cinematography wa', 'circle', 'circumstance', 'circus', 'citizen', 'citizen kane', 'city', 'civil', 'civil war', 'civilian', 'civilization', 'clad', 'claim', 'claimed', 'claire', 'clark', 'clash', 'class', 'classic', 'classic film', 'classic movie', 'classical', 'claude', 'claustrophobic', 'clean', 'cleaning', 'clear', 'clearly', 'clerk', 'clever', 'cleverly', 'cliche', 'cliché', 'clichéd', 'clichés', 'client', 'cliff', 'climactic', 'climax', 'climb', 'clint', 'clint eastwood', 'clip', 'clock', 'clone', 'clooney', 'close', 'close ups', 'closed', 'closely', 'closer', 'closest', 'closet', 'closing', 'clothes', 'clothing', 'cloud', 'clown', 'club', 'clue', 'clueless', 'clumsy', 'co', 'co star', 'coach', 'coast', 'coaster', 'coat', 'code', 'coffee', 'coffin', 'coherent', 'coincidence', 'cold', 'cole', 'colin', 'collapse', 'colleague', 'collect', 'collection', 'collector', 'college', 'collins', 'colonel', 'color', 'colorful', 'colour', 'columbia', 'columbo', 'com', 'combat', 'combination', 'combine', 'combined', 'come', 'come across', 'come along', 'come back', 'come close', 'come life', 'come mind', 'come together', 'comeback', 'comedian', 'comedic', 'comedy', 'comedy drama', 'comedy movie', 'comedy wa', 'comfort', 'comfortable', 'comic', 'comic book', 'comic relief', 'comical', 'coming', 'coming age', 'command', 'commander', 'comment', 'comment movie', 'commentary', 'commentator', 'commented', 'commercial', 'commit', 'commitment', 'committed', 'common', 'common sense', 'communicate', 'communication', 'communist', 'community', 'companion', 'company', 'compare', 'compared', 'comparing', 'comparison', 'compassion', 'compelled', 'compelling', 'compete', 'competent', 'competition', 'complain', 'complaining', 'complaint', 'complete', 'complete waste', 'completed', 'completely', 'completely different', 'complex', 'complexity', 'complicated', 'complication', 'compliment', 'composed', 'composer', 'composition', 'computer', 'con', 'conan', 'conceived', 'concentrate', 'concept', 'concern', 'concerned', 'concerning', 'concert', 'conclusion', 'condition', 'confess', 'confession', 'confidence', 'confident', 'conflict', 'confront', 'confrontation', 'confused', 'confusing', 'confusion', 'connect', 'connected', 'connection', 'connery', 'conrad', 'conscience', 'conscious', 'consciousness', 'consequence', 'conservative', 'consider', 'considerable', 'considerably', 'consideration', 'considered', 'considering', 'consistent', 'consistently', 'consists', 'conspiracy', 'constant', 'constantly', 'constructed', 'construction', 'contact', 'contain', 'contained', 'containing', 'contains', 'contemporary', 'content', 'contest', 'contestant', 'context', 'continually', 'continue', 'continued', 'continues', 'continuing', 'continuity', 'contract', 'contrary', 'contrast', 'contribute', 'contribution', 'contrived', 'control', 'controlled', 'controversial', 'conveniently', 'convention', 'conventional', 'conversation', 'convey', 'convict', 'conviction', 'convince', 'convinced', 'convinces', 'convincing', 'convincingly', 'convoluted', 'cook', 'cookie', 'cooking', 'cool', 'cooper', 'cop', 'cope', 'coppola', 'copy', 'core', 'corman', 'corn', 'corner', 'corny', 'corporate', 'corporation', 'corps', 'corpse', 'correct', 'correctly', 'corrupt', 'corruption', 'cost', 'costello', 'costume', 'couch', 'could', 'could better', 'could done', 'could easily', 'could ever', 'could find', 'could get', 'could go', 'could good', 'could made', 'could make', 'could much', 'could never', 'could possibly', 'could really', 'could say', 'could see', 'could take', 'could tell', 'could used', 'could watch', 'count', 'counter', 'counterpart', 'countless', 'country', 'countryside', 'county', 'couple', 'couple hour', 'couple time', 'couple year', 'coupled', 'courage', 'course', 'court', 'cousin', 'cover', 'covered', 'cow', 'cowboy', 'cox', 'crack', 'cracking', 'craft', 'crafted', 'craig', 'crap', 'crappy', 'crash', 'crashing', 'craven', 'crawford', 'crawl', 'crazed', 'crazy', 'cream', 'create', 'created', 'creates', 'creating', 'creation', 'creative', 'creativity', 'creator', 'creature', 'credibility', 'credible', 'credit', 'credited', 'creep', 'creepy', 'crew', 'cried', 'crime', 'criminal', 'cringe', 'crisis', 'crisp', 'critic', 'critical', 'criticism', 'critique', 'critter', 'crocodile', 'crook', 'cross', 'crossing', 'crowd', 'crucial', 'crude', 'cruel', 'cruelty', 'cruise', 'crush', 'cry', 'crystal', 'cuba', 'cube', 'cue', 'cult', 'cult classic', 'cultural', 'culture', 'cup', 'cure', 'curiosity', 'curious', 'current', 'currently', 'curse', 'curtis', 'cusack', 'cushing', 'custer', 'customer', 'cut', 'cute', 'cutting', 'cyborg', 'cycle', 'cynical', 'da', 'dad', 'daddy', 'daily', 'daisy', 'dallas', 'dalton', 'damage', 'dame', 'damme', 'damn', 'damned', 'damon', 'dan', 'dana', 'dance', 'dance number', 'dancer', 'dancing', 'dane', 'danger', 'dangerous', 'daniel', 'danish', 'danny', 'dare', 'daring', 'dark', 'darker', 'darkness', 'darn', 'date', 'dated', 'dating', 'daughter', 'dave', 'david', 'david lynch', 'davis', 'davy', 'dawn', 'dawson', 'day', 'day wa', 'daylight', 'de', 'de niro', 'de palma', 'dead', 'dead body', 'deadly', 'deaf', 'deal', 'dealer', 'dealing', 'dealt', 'dean', 'dear', 'death', 'death scene', 'debate', 'debbie', 'debt', 'debut', 'decade', 'deceased', 'decent', 'decide', 'decided', 'decided watch', 'decides', 'decision', 'decline', 'dedicated', 'dee', 'deed', 'deep', 'deeper', 'deeply', 'deer', 'defeat', 'defeated', 'defend', 'defense', 'defined', 'definite', 'definitely', 'definitely one', 'definitely worth', 'definition', 'degree', 'del', 'deliberately', 'delicate', 'delight', 'delightful', 'deliver', 'delivered', 'delivering', 'delivers', 'delivery', 'demand', 'demanding', 'demented', 'demise', 'demon', 'demonic', 'demonstrates', 'deniro', 'dennis', 'dennis hopper', 'dentist', 'denzel', 'department', 'depends', 'depicted', 'depicting', 'depiction', 'depicts', 'depressed', 'depressing', 'depression', 'depth', 'deranged', 'derek', 'derivative', 'descent', 'describe', 'described', 'describes', 'describing', 'description', 'desert', 'deserted', 'deserve', 'deserved', 'deserves', 'design', 'designed', 'designer', 'desire', 'desired', 'despair', 'desperate', 'desperately', 'desperation', 'despite', 'despite fact', 'destination', 'destiny', 'destroy', 'destroyed', 'destroying', 'destroys', 'destruction', 'detail', 'detailed', 'detective', 'determined', 'devastating', 'develop', 'developed', 'developing', 'development', 'develops', 'device', 'devil', 'devoid', 'devoted', 'dialog', 'dialog wa', 'dialogue', 'dialogue wa', 'diamond', 'diana', 'diane', 'diary', 'diaz', 'dick', 'dickens', 'dictator', 'die', 'die hard', 'died', 'difference', 'different', 'different movie', 'differently', 'difficult', 'difficulty', 'dig', 'digital', 'dignity', 'dilemma', 'dillon', 'dim', 'dimension', 'dimensional', 'diner', 'dinner', 'dinosaur', 'dire', 'direct', 'direct video', 'directed', 'directing', 'direction', 'direction wa', 'directly', 'director', 'director film', 'director ha', 'director wa', 'director writer', 'directorial', 'directs', 'dirt', 'dirty', 'dirty harry', 'disagree', 'disappear', 'disappeared', 'disappears', 'disappoint', 'disappointed', 'disappointing', 'disappointment', 'disaster', 'disastrous', 'disbelief', 'disc', 'discover', 'discovered', 'discovering', 'discovers', 'discovery', 'discus', 'discussion', 'disease', 'disguise', 'disgust', 'disgusted', 'disgusting', 'dish', 'disjointed', 'dislike', 'disliked', 'dismal', 'disney', 'display', 'displayed', 'distance', 'distant', 'distinct', 'distracting', 'distraction', 'distribution', 'disturbed', 'disturbing', 'dive', 'divine', 'divorce', 'doc', 'doctor', 'document', 'documentary', 'doe', 'doe anyone', 'doe best', 'doe get', 'doe good', 'doe great', 'doe look', 'doe make', 'doe mean', 'doe nothing', 'doe seem', 'doe well', 'dog', 'doll', 'dollar', 'domestic', 'donald', 'donald sutherland', 'done', 'done better', 'done well', 'donna', 'dont', 'doo', 'doom', 'doomed', 'door', 'dorothy', 'dose', 'double', 'doubt', 'doug', 'douglas', 'downhill', 'downright', 'dozen', 'dr', 'dracula', 'drag', 'dragged', 'dragon', 'drake', 'drama', 'dramatic', 'draw', 'drawing', 'drawn', 'dreadful', 'dream', 'dream sequence', 'dreary', 'dreck', 'dress', 'dressed', 'dressing', 'drew', 'drift', 'drink', 'drinking', 'drive', 'drivel', 'driven', 'driver', 'driving', 'drop', 'dropped', 'dropping', 'drove', 'drug', 'drug dealer', 'drum', 'drunk', 'drunken', 'dry', 'dub', 'dubbed', 'dubbing', 'dubious', 'duck', 'dud', 'dude', 'due', 'due fact', 'duke', 'dull', 'dumb', 'dump', 'dunne', 'duo', 'duration', 'dust', 'dutch', 'duty', 'duvall', 'dvd', 'dvd release', 'dvd wa', 'dwarf', 'dy', 'dying', 'dylan', 'dynamic', 'dysfunctional', 'eager', 'ear', 'earl', 'earlier', 'earlier film', 'early', 'early film', 'earn', 'earned', 'earth', 'ease', 'easier', 'easily', 'east', 'eastern', 'eastwood', 'easy', 'eat', 'eaten', 'eater', 'eating', 'eats', 'eccentric', 'echo', 'ed', 'ed wood', 'eddie', 'eddie murphy', 'edgar', 'edge', 'edge seat', 'edgy', 'edie', 'edit', 'edited', 'editing', 'edition', 'editor', 'education', 'educational', 'edward', 'eerie', 'effect', 'effective', 'effectively', 'effort', 'egg', 'ego', 'egyptian', 'eight', 'eight year', 'eighty', 'eisenstein', 'either', 'either way', 'el', 'elaborate', 'elder', 'elderly', 'election', 'electric', 'elegant', 'element', 'elephant', 'elevator', 'eleven', 'elite', 'elizabeth', 'ellen', 'else', 'elsewhere', 'elvira', 'elvis', 'em', 'embarrassed', 'embarrassing', 'embarrassment', 'embrace', 'emerge', 'emerges', 'emily', 'emma', 'emotion', 'emotional', 'emotionally', 'empathy', 'emperor', 'emphasis', 'empire', 'employ', 'employed', 'employee', 'empty', 'en', 'encounter', 'encourage', 'end', 'end credit', 'end film', 'end movie', 'end one', 'end result', 'end wa', 'endearing', 'ended', 'ending', 'ending movie', 'ending wa', 'endless', 'endlessly', 'endure', 'enemy', 'energetic', 'energy', 'engage', 'engaged', 'engaging', 'engine', 'england', 'english', 'engrossing', 'enhanced', 'enjoy', 'enjoy film', 'enjoy movie', 'enjoy watching', 'enjoyable', 'enjoyed', 'enjoyed film', 'enjoyed movie', 'enjoying', 'enjoyment', 'enjoys', 'enormous', 'enough', 'enough make', 'ensemble', 'ensues', 'enter', 'entered', 'entering', 'enterprise', 'enters', 'entertain', 'entertained', 'entertaining', 'entertaining film', 'entertaining movie', 'entertainment', 'entertainment value', 'enthusiasm', 'entire', 'entire cast', 'entire film', 'entire life', 'entire movie', 'entirely', 'entirety', 'entitled', 'entry', 'environment', 'epic', 'episode', 'episode wa', 'equal', 'equally', 'equipment', 'equivalent', 'er', 'era', 'eric', 'erika', 'ernest', 'erotic', 'errol', 'error', 'escape', 'escaped', 'especially', 'especially since', 'essence', 'essential', 'essentially', 'establish', 'established', 'estate', 'et', 'etc', 'etc etc', 'eternal', 'eternity', 'ethan', 'ethnic', 'eugene', 'europe', 'european', 'eva', 'eve', 'even', 'even better', 'even bother', 'even close', 'even come', 'even funny', 'even get', 'even good', 'even know', 'even make', 'even movie', 'even one', 'even remotely', 'even think', 'even though', 'even wa', 'even worse', 'even worth', 'evening', 'event', 'eventual', 'eventually', 'ever', 'ever get', 'ever heard', 'ever made', 'ever saw', 'ever see', 'ever seen', 'ever since', 'ever wa', 'every', 'every character', 'every day', 'every episode', 'every film', 'every minute', 'every movie', 'every one', 'every scene', 'every single', 'every time', 'every way', 'everybody', 'everyday', 'everyone', 'everyone else', 'everyone ha', 'everyone involved', 'everything', 'everything else', 'everything movie', 'everything wa', 'everywhere', 'evidence', 'evident', 'evidently', 'evil', 'evil dead', 'evolution', 'ex', 'exact', 'exactly', 'exactly like', 'exaggerated', 'example', 'excellent', 'excellent film', 'excellent job', 'excellent movie', 'excellent performance', 'except', 'exception', 'exceptional', 'exceptionally', 'excess', 'excessive', 'exchange', 'excited', 'excitement', 'exciting', 'excuse', 'executed', 'execution', 'executive', 'exercise', 'exist', 'existed', 'existence', 'existent', 'exists', 'exit', 'exorcist', 'exotic', 'expect', 'expect much', 'expectation', 'expected', 'expecting', 'expects', 'expedition', 'expense', 'expensive', 'experience', 'experienced', 'experiment', 'experimental', 'expert', 'explain', 'explained', 'explaining', 'explains', 'explanation', 'explicit', 'exploding', 'exploit', 'exploitation', 'exploration', 'explore', 'explored', 'explores', 'exploring', 'explosion', 'explosive', 'expose', 'exposed', 'exposition', 'exposure', 'express', 'expressed', 'expression', 'exquisite', 'extended', 'extent', 'exterior', 'extra', 'extraordinary', 'extreme', 'extremely', 'extremely well', 'eye', 'eye candy', 'eyed', 'eyre', 'fabulous', 'face', 'faced', 'facial', 'facial expression', 'facing', 'fact', 'fact film', 'fact movie', 'fact wa', 'factor', 'factory', 'fade', 'fail', 'failed', 'failing', 'fails', 'fails miserably', 'failure', 'fair', 'fairly', 'fairy', 'fairy tale', 'faith', 'faithful', 'fake', 'falk', 'fall', 'fall asleep', 'fall flat', 'fall love', 'fallen', 'falling', 'falling love', 'false', 'fame', 'familiar', 'family', 'family film', 'family friend', 'family member', 'family movie', 'famous', 'fan', 'fan movie', 'fanatic', 'fancy', 'fantastic', 'fantasy', 'far', 'far away', 'far best', 'far better', 'far fetched', 'far superior', 'far worst', 'farce', 'fare', 'farm', 'farmer', 'farrell', 'fascinated', 'fascinating', 'fascination', 'fashion', 'fashioned', 'fast', 'fast forward', 'fast paced', 'faster', 'fat', 'fatal', 'fatale', 'fate', 'father', 'father son', 'father wa', 'fault', 'favor', 'favorite', 'favorite film', 'favorite movie', 'favour', 'favourite', 'fay', 'fbi', 'fear', 'feast', 'feat', 'feature', 'feature film', 'feature length', 'featured', 'featuring', 'fed', 'feed', 'feel', 'feel good', 'feel like', 'feel sorry', 'feeling', 'felix', 'fell', 'fell asleep', 'fell love', 'fellow', 'felt', 'felt like', 'felt wa', 'female', 'female character', 'female lead', 'feminist', 'femme', 'fence', 'fest', 'festival', 'fetched', 'fever', 'fi', 'fi channel', 'fi movie', 'fiancé', 'fiancée', 'fiction', 'fictional', 'field', 'fifteen', 'fifteen minute', 'fifth', 'fifty', 'fight', 'fight scene', 'fighter', 'fighting', 'figure', 'figured', 'file', 'fill', 'filled', 'filler', 'filling', 'film', 'film acting', 'film actually', 'film almost', 'film also', 'film although', 'film always', 'film anyone', 'film bad', 'film based', 'film begin', 'film best', 'film better', 'film came', 'film certainly', 'film character', 'film come', 'film could', 'film definitely', 'film director', 'film doe', 'film end', 'film especially', 'film even', 'film ever', 'film fact', 'film far', 'film feature', 'film feel', 'film festival', 'film film', 'film first', 'film full', 'film funny', 'film get', 'film give', 'film go', 'film good', 'film got', 'film great', 'film ha', 'film history', 'film however', 'film industry', 'film know', 'film lack', 'film last', 'film least', 'film like', 'film little', 'film look', 'film lot', 'film love', 'film made', 'film make', 'film maker', 'film making', 'film many', 'film may', 'film mean', 'film might', 'film movie', 'film much', 'film must', 'film need', 'film never', 'film noir', 'film nothing', 'film one', 'film open', 'film people', 'film play', 'film plot', 'film pretty', 'film probably', 'film quite', 'film rather', 'film real', 'film really', 'film saw', 'film say', 'film school', 'film see', 'film seems', 'film seen', 'film set', 'film shot', 'film show', 'film simply', 'film since', 'film star', 'film start', 'film still', 'film story', 'film student', 'film sure', 'film take', 'film tell', 'film think', 'film though', 'film thought', 'film time', 'film try', 'film two', 'film version', 'film wa', 'film want', 'film watch', 'film way', 'film well', 'film without', 'film work', 'film worth', 'film would', 'film year', 'filmed', 'filming', 'filmmaker', 'filmmaking', 'final', 'final scene', 'finale', 'finally', 'finally get', 'financial', 'find', 'find film', 'find movie', 'find one', 'find something', 'find way', 'finding', 'fine', 'fine actor', 'fine job', 'fine performance', 'finest', 'finger', 'finish', 'finished', 'fire', 'fired', 'firing', 'firm', 'firmly', 'first', 'first came', 'first episode', 'first film', 'first half', 'first hour', 'first minute', 'first movie', 'first one', 'first part', 'first place', 'first rate', 'first saw', 'first scene', 'first season', 'first thing', 'first thought', 'first time', 'first two', 'first wa', 'firstly', 'fish', 'fisher', 'fist', 'fit', 'fitting', 'five', 'five minute', 'five year', 'fix', 'flag', 'flair', 'flame', 'flash', 'flashback', 'flat', 'flaw', 'flawed', 'flawless', 'flesh', 'flick', 'flight', 'flip', 'floating', 'flood', 'floor', 'flop', 'florida', 'flow', 'flower', 'fluff', 'fluid', 'fly', 'flying', 'flynn', 'focus', 'focused', 'focusing', 'fog', 'folk', 'follow', 'followed', 'follower', 'following', 'follows', 'fond', 'fonda', 'food', 'fool', 'fooled', 'foolish', 'foot', 'footage', 'football', 'forbidden', 'force', 'forced', 'forcing', 'ford', 'foreign', 'forest', 'forever', 'forget', 'forgettable', 'forgive', 'forgot', 'forgotten', 'form', 'format', 'formed', 'former', 'formula', 'formulaic', 'forth', 'fortunately', 'fortune', 'forty', 'forward', 'forward seeing', 'foster', 'fought', 'foul', 'found', 'found film', 'found movie', 'four', 'four year', 'fourth', 'fox', 'foxx', 'frame', 'framed', 'france', 'franchise', 'francis', 'francisco', 'franco', 'frank', 'frankenstein', 'frankie', 'frankly', 'freak', 'fred', 'freddy', 'free', 'freedom', 'freeman', 'freeze', 'french', 'frequent', 'frequently', 'fresh', 'friday', 'friday th', 'friend', 'friendly', 'friendship', 'frightened', 'frightening', 'front', 'frontier', 'frost', 'frozen', 'frustrated', 'frustrating', 'frustration', 'fu', 'fuel', 'fulci', 'full', 'full length', 'full moon', 'fuller', 'fully', 'fun', 'fun film', 'fun movie', 'fun watch', 'function', 'fund', 'funeral', 'funnier', 'funniest', 'funny', 'funny film', 'funny moment', 'funny movie', 'funny scene', 'furious', 'furthermore', 'fury', 'future', 'futuristic', 'fx', 'gabriel', 'gadget', 'gag', 'gain', 'gained', 'gal', 'gambling', 'game', 'gandhi', 'gang', 'gangster', 'gap', 'garbage', 'garbo', 'garden', 'garfield', 'garner', 'gary', 'gas', 'gate', 'gather', 'gave', 'gave movie', 'gay', 'gear', 'geek', 'gem', 'gender', 'gene', 'gene kelly', 'general', 'generally', 'generated', 'generation', 'generic', 'generous', 'genius', 'genre', 'gentle', 'gentleman', 'genuine', 'genuinely', 'george', 'gerard', 'gere', 'german', 'germany', 'gesture', 'get', 'get away', 'get back', 'get better', 'get caught', 'get chance', 'get feeling', 'get good', 'get idea', 'get involved', 'get killed', 'get know', 'get little', 'get married', 'get money', 'get movie', 'get much', 'get one', 'get point', 'get see', 'get shot', 'get started', 'get together', 'get way', 'get worse', 'get wrong', 'getting', 'ghetto', 'ghost', 'ghost story', 'ghoulies', 'giallo', 'giant', 'gibson', 'gift', 'gifted', 'giggle', 'gilbert', 'gimmick', 'ginger', 'girl', 'girl wa', 'girlfriend', 'give', 'give away', 'give chance', 'give credit', 'give film', 'give good', 'give movie', 'give one', 'given', 'giving', 'glad', 'glance', 'glass', 'glen', 'glenn', 'glimpse', 'global', 'globe', 'gloria', 'glorious', 'glory', 'glover', 'glowing', 'glued', 'go', 'go ahead', 'go along', 'go back', 'go far', 'go get', 'go movie', 'go nowhere', 'go one', 'go see', 'go watch', 'go way', 'go wrong', 'goal', 'god', 'god awful', 'godfather', 'godzilla', 'goer', 'going', 'going back', 'going get', 'going happen', 'going see', 'gold', 'goldberg', 'golden', 'golf', 'gone', 'gone wind', 'gonna', 'good', 'good acting', 'good actor', 'good bad', 'good enough', 'good example', 'good film', 'good friend', 'good guy', 'good idea', 'good job', 'good laugh', 'good look', 'good looking', 'good movie', 'good old', 'good one', 'good part', 'good performance', 'good plot', 'good point', 'good reason', 'good see', 'good show', 'good story', 'good thing', 'good time', 'good wa', 'good way', 'good well', 'goodness', 'goof', 'goofy', 'gordon', 'gore', 'gorgeous', 'gory', 'got', 'got see', 'got wa', 'gothic', 'gotta', 'gotten', 'government', 'grab', 'grace', 'grade', 'gradually', 'graf', 'graham', 'grainy', 'grand', 'grandfather', 'grandmother', 'grant', 'granted', 'graphic', 'grasp', 'grass', 'gratuitous', 'grave', 'gray', 'great', 'great acting', 'great actor', 'great cast', 'great character', 'great deal', 'great film', 'great fun', 'great idea', 'great job', 'great movie', 'great music', 'great one', 'great performance', 'great scene', 'great see', 'great show', 'great story', 'greater', 'greatest', 'greatly', 'greatness', 'greed', 'greedy', 'greek', 'green', 'greg', 'gregory', 'grew', 'grey', 'grief', 'griffith', 'grim', 'grinch', 'grip', 'gripping', 'gritty', 'gross', 'grotesque', 'ground', 'group', 'grow', 'growing', 'grown', 'grows', 'grudge', 'gruesome', 'gu', 'guarantee', 'guaranteed', 'guard', 'guess', 'guess wa', 'guessed', 'guessing', 'guest', 'guide', 'guilt', 'guilty', 'guilty pleasure', 'guitar', 'gun', 'gut', 'guy', 'guy get', 'guy ha', 'guy wa', 'gypsy', 'ha', 'ha already', 'ha also', 'ha always', 'ha become', 'ha come', 'ha done', 'ha ever', 'ha given', 'ha gone', 'ha good', 'ha got', 'ha great', 'ha ha', 'ha little', 'ha lost', 'ha lot', 'ha made', 'ha many', 'ha moment', 'ha much', 'ha never', 'ha nice', 'ha nothing', 'ha one', 'ha real', 'ha really', 'ha said', 'ha seen', 'ha something', 'ha taken', 'ha two', 'habit', 'hack', 'hackneyed', 'hair', 'haired', 'hal', 'half', 'half film', 'half hour', 'half movie', 'half way', 'halfway', 'hall', 'hallmark', 'halloween', 'ham', 'hamilton', 'hamlet', 'hammer', 'hammy', 'han', 'hand', 'hand held', 'handed', 'handful', 'handle', 'handled', 'handling', 'handsome', 'hang', 'hanging', 'hank', 'hapless', 'happen', 'happened', 'happening', 'happens', 'happily', 'happiness', 'happy', 'happy ending', 'harbor', 'hard', 'hard believe', 'hard find', 'hard time', 'hardcore', 'harder', 'hardly', 'hardy', 'harm', 'harmless', 'harold', 'harris', 'harrison', 'harry', 'harsh', 'hart', 'hartley', 'harvey', 'hat', 'hate', 'hate movie', 'hated', 'hatred', 'haunt', 'haunted', 'haunting', 'havoc', 'hawk', 'hayes', 'hayworth', 'hbo', 'head', 'headache', 'headed', 'heading', 'health', 'hear', 'heard', 'hearing', 'hears', 'heart', 'heartbreaking', 'hearted', 'heartfelt', 'heartwarming', 'heat', 'heaven', 'heavily', 'heavy', 'heavy handed', 'heck', 'heel', 'height', 'heist', 'held', 'helen', 'helicopter', 'hell', 'hell wa', 'hello', 'help', 'helped', 'helpful', 'helping', 'helpless', 'hence', 'henchman', 'henry', 'hero', 'heroic', 'heroin', 'heroine', 'herzog', 'heston', 'hey', 'hi', 'hidden', 'hide', 'hideous', 'hiding', 'high', 'high point', 'high school', 'higher', 'highest', 'highlight', 'highly', 'highly recommend', 'highly recommended', 'highway', 'hilarious', 'hilariously', 'hill', 'hilton', 'hindi', 'hint', 'hip', 'hippie', 'hippy', 'hire', 'hired', 'historic', 'historical', 'historically', 'history', 'hit', 'hit man', 'hitch', 'hitchcock', 'hitler', 'hitting', 'hk', 'ho', 'hoffman', 'hogan', 'hokey', 'hold', 'holding', 'hole', 'holiday', 'hollow', 'holly', 'hollywood', 'hollywood film', 'hollywood movie', 'holmes', 'holocaust', 'holy', 'homage', 'home', 'home movie', 'home video', 'homeless', 'homer', 'homosexual', 'homosexuality', 'honest', 'honestly', 'honesty', 'hong', 'hong kong', 'honor', 'hood', 'hook', 'hooked', 'hooker', 'hoot', 'hop', 'hope', 'hoped', 'hopefully', 'hopeless', 'hopelessly', 'hoping', 'hopkins', 'hopper', 'horizon', 'horn', 'horny', 'horrendous', 'horrible', 'horrible acting', 'horrible movie', 'horribly', 'horrid', 'horrific', 'horrified', 'horrifying', 'horror', 'horror comedy', 'horror fan', 'horror film', 'horror flick', 'horror genre', 'horror movie', 'horse', 'hospital', 'host', 'hostage', 'hot', 'hotel', 'hour', 'hour half', 'hour life', 'hour long', 'hour movie', 'house', 'household', 'housewife', 'howard', 'however', 'however film', 'however movie', 'however wa', 'http', 'hudson', 'huge', 'huge fan', 'hugely', 'hugh', 'hughes', 'huh', 'hulk', 'human', 'humanity', 'humble', 'humor', 'humorous', 'humour', 'hundred', 'hung', 'hungry', 'hunt', 'hunter', 'hunting', 'hurt', 'husband', 'huston', 'hybrid', 'hyde', 'hype', 'hysterical', 'ian', 'ice', 'icon', 'idea', 'idea movie', 'idea wa', 'ideal', 'identical', 'identify', 'identity', 'idiot', 'idiotic', 'idol', 'ie', 'ignorance', 'ignorant', 'ignore', 'ignored', 'ii', 'iii', 'ill', 'illegal', 'illness', 'illogical', 'illusion', 'im', 'image', 'imagery', 'imaginable', 'imaginary', 'imagination', 'imaginative', 'imagine', 'imagined', 'imdb', 'imitation', 'immature', 'immediate', 'immediately', 'immensely', 'immigrant', 'impact', 'implausible', 'importance', 'important', 'importantly', 'impossible', 'impress', 'impressed', 'impression', 'impressive', 'improbable', 'improve', 'improved', 'improvement', 'inability', 'inaccuracy', 'inaccurate', 'inane', 'inappropriate', 'inch', 'incident', 'incidentally', 'include', 'included', 'includes', 'including', 'incoherent', 'incompetent', 'incomprehensible', 'inconsistent', 'increase', 'increasingly', 'incredible', 'incredibly', 'indeed', 'independent', 'independent film', 'india', 'indian', 'indication', 'indie', 'individual', 'inducing', 'indulgent', 'industrial', 'industry', 'inept', 'inevitable', 'inevitably', 'inexplicably', 'infamous', 'infected', 'inferior', 'influence', 'influenced', 'info', 'information', 'informative', 'ingredient', 'inhabitant', 'inherent', 'initial', 'initially', 'injured', 'injury', 'inmate', 'inner', 'innocence', 'innocent', 'innovative', 'insane', 'insanity', 'inside', 'insight', 'insightful', 'insipid', 'insists', 'inspector', 'inspiration', 'inspire', 'inspired', 'inspiring', 'installment', 'instance', 'instant', 'instantly', 'instead', 'instinct', 'institution', 'instrument', 'insult', 'insulting', 'insurance', 'integrity', 'intellectual', 'intelligence', 'intelligent', 'intended', 'intense', 'intensity', 'intent', 'intention', 'intentionally', 'interaction', 'interest', 'interested', 'interesting', 'interesting character', 'interesting film', 'interesting movie', 'interesting see', 'interesting story', 'interestingly', 'interior', 'internal', 'international', 'international film', 'internet', 'interpretation', 'interview', 'intimate', 'intrigue', 'intrigued', 'intriguing', 'intro', 'introduce', 'introduced', 'introduces', 'introduction', 'invasion', 'invented', 'invention', 'inventive', 'investigate', 'investigating', 'investigation', 'investigator', 'invisible', 'invite', 'invited', 'involve', 'involved', 'involvement', 'involves', 'involving', 'iq', 'iraq', 'ireland', 'irene', 'irish', 'iron', 'ironic', 'ironically', 'irony', 'irrelevant', 'irritating', 'ish', 'island', 'isolated', 'israel', 'israeli', 'issue', 'istanbul', 'italian', 'italy', 'item', 'iv', 'jack', 'jack frost', 'jackass', 'jacket', 'jackie', 'jackie chan', 'jackson', 'jaded', 'jail', 'jake', 'james', 'james bond', 'james stewart', 'jamie', 'jane', 'jane austen', 'jane eyre', 'japan', 'japanese', 'jason', 'jaw', 'jay', 'jazz', 'jealous', 'jealousy', 'jean', 'jeff', 'jeffrey', 'jennifer', 'jenny', 'jeremy', 'jerk', 'jerry', 'jesse', 'jessica', 'jesus', 'jet', 'jew', 'jewel', 'jewish', 'jim', 'jim carrey', 'jimmy', 'jo', 'joan', 'job', 'jock', 'joe', 'joel', 'joey', 'john', 'john carpenter', 'john ford', 'john wayne', 'johnny', 'johnson', 'join', 'joined', 'joke', 'jon', 'jonathan', 'jones', 'jordan', 'joseph', 'josh', 'journalist', 'journey', 'joy', 'jr', 'judge', 'judged', 'judging', 'judgment', 'judy', 'julia', 'julian', 'julie', 'juliet', 'juliette', 'jump', 'jumped', 'jumping', 'june', 'jungle', 'junior', 'junk', 'justice', 'justified', 'justify', 'justin', 'juvenile', 'kane', 'kapoor', 'karate', 'karen', 'karloff', 'kate', 'kathy', 'kay', 'keaton', 'keen', 'keep', 'keep watching', 'keeping', 'keith', 'kelly', 'ken', 'kennedy', 'kenneth', 'kept', 'kevin', 'key', 'khan', 'kick', 'kicked', 'kicking', 'kid', 'kid movie', 'kidding', 'kidman', 'kidnapped', 'kidnapping', 'kill', 'kill people', 'killed', 'killer', 'killing', 'killing people', 'kim', 'kind', 'kind film', 'kind movie', 'kind thing', 'kinda', 'king', 'kingdom', 'kirk', 'kiss', 'kissing', 'kitchen', 'kitty', 'knee', 'knew', 'knew wa', 'knife', 'knight', 'knock', 'knocked', 'know', 'know anything', 'know film', 'know going', 'know mean', 'know movie', 'know much', 'know nothing', 'know one', 'know people', 'know wa', 'knowing', 'knowledge', 'known', 'kong', 'korean', 'kramer', 'kubrick', 'kudos', 'kung', 'kung fu', 'kurosawa', 'kurt', 'kurtz', 'kyle', 'la', 'la vega', 'lab', 'label', 'labor', 'lack', 'lacked', 'lacking', 'lackluster', 'lady', 'laid', 'lake', 'lamb', 'lame', 'lance', 'land', 'landing', 'landscape', 'lane', 'language', 'large', 'largely', 'larger', 'larry', 'last', 'last film', 'last minute', 'last night', 'last scene', 'last time', 'last year', 'lasted', 'lasting', 'lastly', 'late', 'late early', 'late night', 'lately', 'later', 'later film', 'latest', 'latin', 'latter', 'laugh', 'laugh loud', 'laughable', 'laughably', 'laughed', 'laughing', 'laughter', 'laura', 'laurel', 'laurel hardy', 'law', 'lawrence', 'lawyer', 'lay', 'layer', 'lazy', 'le', 'lead', 'lead actor', 'lead actress', 'lead character', 'lead role', 'leader', 'leading', 'leading lady', 'leading man', 'leaf', 'league', 'lean', 'leap', 'learn', 'learned', 'learning', 'learns', 'least', 'least bit', 'least one', 'least wa', 'leather', 'leave', 'leaving', 'led', 'lee', 'left', 'left behind', 'leg', 'legacy', 'legal', 'legend', 'legendary', 'leigh', 'lemmon', 'lena', 'length', 'lengthy', 'leo', 'leon', 'leonard', 'lesbian', 'leslie', 'lesser', 'lesson', 'lester', 'let', 'let alone', 'let face', 'let get', 'let go', 'let know', 'let say', 'let see', 'let start', 'lethal', 'letter', 'letting', 'level', 'lewis', 'li', 'liar', 'liberal', 'liberty', 'library', 'lie', 'life', 'life film', 'life ha', 'life movie', 'life never', 'life one', 'life wa', 'lifeless', 'lifestyle', 'lifetime', 'lift', 'lifted', 'light', 'light hearted', 'lighting', 'likable', 'like', 'like bad', 'like character', 'like could', 'like film', 'like first', 'like good', 'like know', 'like many', 'like movie', 'like much', 'like old', 'like one', 'like people', 'like plague', 'like real', 'like really', 'like said', 'like say', 'like see', 'like someone', 'like something', 'like think', 'like wa', 'like watching', 'like would', 'liked', 'liked film', 'liked movie', 'likely', 'likewise', 'liking', 'lily', 'limit', 'limitation', 'limited', 'lincoln', 'linda', 'line', 'line movie', 'line wa', 'liner', 'link', 'lion', 'lion king', 'lip', 'lisa', 'list', 'listed', 'listen', 'listening', 'lit', 'literally', 'literary', 'literature', 'little', 'little bit', 'little boy', 'little film', 'little girl', 'little kid', 'little movie', 'little thing', 'live', 'live action', 'lived', 'lively', 'living', 'living dead', 'lloyd', 'load', 'loaded', 'local', 'locale', 'located', 'location', 'lock', 'locked', 'logic', 'logical', 'lol', 'london', 'lone', 'loneliness', 'lonely', 'long', 'long ago', 'long time', 'long way', 'longer', 'longing', 'look', 'look film', 'look forward', 'look good', 'look great', 'look like', 'looked', 'looked like', 'looking', 'looking forward', 'looking like', 'looking movie', 'loose', 'loosely', 'lord', 'lord ring', 'los', 'los angeles', 'lose', 'loser', 'loses', 'losing', 'loss', 'lost', 'lot', 'lot better', 'lot film', 'lot fun', 'lot like', 'lot movie', 'lot people', 'lot thing', 'lot time', 'lou', 'loud', 'louis', 'louise', 'lousy', 'lovable', 'love', 'love affair', 'love film', 'love hate', 'love interest', 'love life', 'love movie', 'love scene', 'love see', 'love story', 'loved', 'loved film', 'loved movie', 'loved one', 'lovely', 'lover', 'loving', 'low', 'low budget', 'low key', 'lower', 'lowest', 'loy', 'loyal', 'loyalty', 'lucas', 'luck', 'luckily', 'lucky', 'lucy', 'ludicrous', 'lugosi', 'luke', 'lunch', 'lupino', 'lush', 'lust', 'lying', 'lynch', 'lynn', 'lyric', 'macbeth', 'machine', 'machine gun', 'macho', 'macy', 'mad', 'mad scientist', 'made', 'made even', 'made feel', 'made film', 'made good', 'made laugh', 'made look', 'made movie', 'made one', 'made sense', 'made think', 'made tv', 'made want', 'madness', 'madonna', 'mafia', 'magazine', 'maggie', 'magic', 'magical', 'magnificent', 'maid', 'mail', 'main', 'main actor', 'main character', 'main plot', 'main problem', 'main reason', 'mainly', 'mainstream', 'maintain', 'major', 'majority', 'make', 'make better', 'make even', 'make feel', 'make film', 'make fun', 'make good', 'make great', 'make laugh', 'make look', 'make mistake', 'make movie', 'make much', 'make one', 'make seem', 'make sense', 'make sure', 'make thing', 'make think', 'make want', 'make way', 'make wonder', 'maker', 'makeup', 'making', 'making film', 'making movie', 'male', 'male lead', 'mama', 'man', 'man ha', 'man wa', 'man woman', 'manage', 'managed', 'manager', 'manages', 'manhattan', 'maniac', 'manipulative', 'mankind', 'mann', 'manner', 'mansion', 'many', 'many character', 'many film', 'many great', 'many level', 'many many', 'many movie', 'many others', 'many people', 'many scene', 'many thing', 'many time', 'many way', 'many year', 'map', 'mar', 'march', 'margaret', 'maria', 'marie', 'marine', 'mario', 'marion', 'mark', 'marked', 'market', 'marketing', 'marriage', 'married', 'marries', 'marry', 'marshall', 'martha', 'martial', 'martial art', 'martian', 'martin', 'marty', 'marvel', 'marvelous', 'mary', 'mask', 'mason', 'mass', 'massacre', 'massive', 'master', 'masterful', 'masterpiece', 'match', 'matched', 'mate', 'material', 'matrix', 'matt', 'matter', 'matter fact', 'matthau', 'matthew', 'mature', 'max', 'may', 'may find', 'may seem', 'may well', 'maybe', 'maybe even', 'maybe wa', 'mayhem', 'mayor', 'meal', 'mean', 'meaning', 'meaningful', 'meaningless', 'meant', 'meanwhile', 'measure', 'meat', 'mechanical', 'medical', 'mediocre', 'medium', 'meet', 'meeting', 'meg', 'mel', 'melodrama', 'melodramatic', 'melody', 'melting', 'melville', 'member', 'memorable', 'memory', 'men', 'men woman', 'menace', 'menacing', 'mental', 'mentality', 'mentally', 'mention', 'mentioned', 'mentioning', 'merchant', 'mercy', 'mere', 'merely', 'merit', 'meryl', 'meryl streep', 'mess', 'message', 'messed', 'messy', 'met', 'metal', 'metaphor', 'method', 'mexican', 'mexico', 'mgm', 'mi', 'michael', 'michael caine', 'michael jackson', 'michelle', 'mickey', 'mid', 'middle', 'middle aged', 'middle class', 'midnight', 'might', 'might well', 'mighty', 'miike', 'mike', 'mild', 'mildly', 'mildred', 'mile', 'military', 'milk', 'mill', 'miller', 'million', 'million dollar', 'millionaire', 'milo', 'min', 'mind', 'minded', 'mindless', 'mine', 'mini', 'mini series', 'minimal', 'minimum', 'miniseries', 'minister', 'minor', 'minority', 'minus', 'minute', 'minute film', 'minute life', 'minute long', 'minute movie', 'minute wa', 'miracle', 'mirror', 'miscast', 'miserable', 'miserably', 'misery', 'misfortune', 'misguided', 'misleading', 'miss', 'missed', 'missile', 'missing', 'mission', 'mistake', 'mistaken', 'mistress', 'mitchell', 'mitchum', 'mix', 'mixed', 'mixing', 'mixture', 'miyazaki', 'mm', 'mob', 'mobster', 'mock', 'mode', 'model', 'modern', 'modern day', 'modest', 'modesty', 'molly', 'mom', 'moment', 'moment film', 'moment movie', 'money', 'money back', 'monk', 'monkey', 'monologue', 'monster', 'montage', 'montana', 'montgomery', 'month', 'monty', 'mood', 'moody', 'moon', 'moore', 'moral', 'morality', 'morally', 'moreover', 'morgan', 'morgan freeman', 'mormon', 'morning', 'moron', 'moronic', 'morris', 'mostly', 'mother', 'motif', 'motion', 'motion picture', 'motivation', 'motorcycle', 'mountain', 'mouse', 'mouth', 'move', 'move along', 'moved', 'movement', 'movie', 'movie absolutely', 'movie acting', 'movie actor', 'movie actually', 'movie almost', 'movie also', 'movie although', 'movie always', 'movie anyone', 'movie bad', 'movie based', 'movie best', 'movie better', 'movie big', 'movie called', 'movie came', 'movie character', 'movie come', 'movie could', 'movie definitely', 'movie director', 'movie doe', 'movie end', 'movie especially', 'movie even', 'movie ever', 'movie every', 'movie everyone', 'movie fact', 'movie fan', 'movie far', 'movie feel', 'movie film', 'movie find', 'movie first', 'movie fun', 'movie funny', 'movie genre', 'movie get', 'movie give', 'movie go', 'movie going', 'movie good', 'movie got', 'movie great', 'movie ha', 'movie however', 'movie instead', 'movie interesting', 'movie kid', 'movie kind', 'movie know', 'movie last', 'movie least', 'movie let', 'movie like', 'movie little', 'movie long', 'movie look', 'movie lot', 'movie love', 'movie made', 'movie make', 'movie making', 'movie many', 'movie may', 'movie maybe', 'movie mean', 'movie might', 'movie movie', 'movie much', 'movie must', 'movie need', 'movie never', 'movie nothing', 'movie one', 'movie people', 'movie plot', 'movie pretty', 'movie probably', 'movie quite', 'movie real', 'movie really', 'movie right', 'movie saw', 'movie say', 'movie see', 'movie seemed', 'movie seems', 'movie seen', 'movie set', 'movie show', 'movie simply', 'movie since', 'movie something', 'movie star', 'movie start', 'movie still', 'movie story', 'movie suck', 'movie supposed', 'movie sure', 'movie take', 'movie tell', 'movie terrible', 'movie theater', 'movie thing', 'movie think', 'movie though', 'movie thought', 'movie time', 'movie try', 'movie tv', 'movie two', 'movie wa', 'movie want', 'movie watch', 'movie watched', 'movie watching', 'movie way', 'movie well', 'movie whole', 'movie without', 'movie work', 'movie worth', 'movie would', 'movie year', 'moving', 'mr', 'mst', 'mtv', 'much', 'much better', 'much film', 'much fun', 'much le', 'much like', 'much movie', 'much much', 'much time', 'much wa', 'much worse', 'mud', 'muddled', 'multi', 'multiple', 'mummy', 'mundane', 'muppet', 'muppets', 'murder', 'murder mystery', 'murdered', 'murderer', 'murdering', 'murderous', 'murphy', 'murray', 'museum', 'music', 'music score', 'music video', 'music wa', 'musical', 'musical number', 'musical score', 'musician', 'muslim', 'must', 'must admit', 'must say', 'must see', 'mutant', 'mute', 'myers', 'mysterious', 'mystery', 'mystery science', 'myth', 'nail', 'naive', 'naked', 'name', 'name wa', 'named', 'namely', 'nancy', 'narration', 'narrative', 'narrator', 'narrow', 'nasty', 'natalie', 'nation', 'national', 'native', 'native american', 'natural', 'naturally', 'nature', 'navy', 'nazi', 'nbc', 'nd', 'near', 'near end', 'nearby', 'nearly', 'neat', 'necessarily', 'necessary', 'neck', 'ned', 'need', 'need see', 'needed', 'needle', 'needle say', 'negative', 'neighbor', 'neighborhood', 'neighbour', 'neil', 'neither', 'nelson', 'nemesis', 'neo', 'nephew', 'nerd', 'nerve', 'nervous', 'net', 'network', 'never', 'never even', 'never forget', 'never get', 'never got', 'never heard', 'never know', 'never let', 'never made', 'never mind', 'never really', 'never saw', 'never see', 'never seen', 'never thought', 'nevertheless', 'new', 'new life', 'new orleans', 'new york', 'newcomer', 'newly', 'newman', 'news', 'newspaper', 'next', 'next day', 'next door', 'next time', 'nice', 'nice guy', 'nice see', 'nicely', 'nicholas', 'nicholson', 'nick', 'nicole', 'niece', 'night', 'night wa', 'nightclub', 'nightmare', 'nine', 'ninety', 'ninja', 'niro', 'noble', 'nobody', 'nod', 'noir', 'noise', 'nolan', 'nolte', 'nominated', 'nomination', 'non', 'non existent', 'non stop', 'none', 'none character', 'nonetheless', 'nonsense', 'nonsensical', 'norm', 'normal', 'normally', 'norman', 'norris', 'north', 'northern', 'nose', 'nostalgia', 'nostalgic', 'notable', 'notably', 'notch', 'note', 'noted', 'nothing', 'nothing else', 'nothing happens', 'nothing like', 'nothing movie', 'nothing new', 'nothing really', 'nothing special', 'nothing wrong', 'notice', 'noticed', 'notion', 'notorious', 'novel', 'nowadays', 'nowhere', 'nowhere near', 'nuance', 'nuclear', 'nude', 'nudity', 'number', 'number one', 'numerous', 'nun', 'nurse', 'nut', 'nyc', 'object', 'objective', 'obligatory', 'obnoxious', 'obscure', 'observation', 'obsessed', 'obsession', 'obstacle', 'obvious', 'obviously', 'occasion', 'occasional', 'occasionally', 'occur', 'occurred', 'occurs', 'ocean', 'odd', 'oddly', 'odds', 'odyssey', 'offended', 'offensive', 'offer', 'offered', 'offering', 'office', 'officer', 'official', 'often', 'oh', 'oh god', 'oh well', 'oh yeah', 'oil', 'ok', 'okay', 'old', 'old boy', 'old fashioned', 'old lady', 'old man', 'old movie', 'old school', 'older', 'oliver', 'olivia', 'olivier', 'ollie', 'one', 'one another', 'one bad', 'one best', 'one better', 'one big', 'one character', 'one could', 'one day', 'one dimensional', 'one doe', 'one else', 'one episode', 'one even', 'one ever', 'one favorite', 'one favourite', 'one film', 'one finest', 'one first', 'one funniest', 'one get', 'one girl', 'one go', 'one good', 'one great', 'one greatest', 'one guy', 'one ha', 'one hand', 'one kind', 'one know', 'one last', 'one like', 'one liner', 'one main', 'one make', 'one man', 'one many', 'one may', 'one might', 'one moment', 'one movie', 'one must', 'one night', 'one one', 'one person', 'one point', 'one really', 'one reason', 'one scene', 'one see', 'one star', 'one take', 'one thing', 'one think', 'one time', 'one two', 'one wa', 'one watch', 'one way', 'one wonder', 'one word', 'one worst', 'one would', 'one year', 'online', 'onto', 'open', 'open mind', 'opened', 'opening', 'opening credit', 'opening scene', 'opening sequence', 'opera', 'operation', 'opinion', 'opponent', 'opportunity', 'opposed', 'opposite', 'option', 'orange', 'orchestra', 'order', 'ordered', 'ordinary', 'organization', 'oriented', 'origin', 'original', 'original film', 'original movie', 'original series', 'original story', 'original wa', 'originality', 'originally', 'orleans', 'orson', 'oscar', 'oscar nomination', 'others', 'otherwise', 'ought', 'outcome', 'outer', 'outer space', 'outfit', 'outing', 'outline', 'outrageous', 'outside', 'outstanding', 'overacting', 'overall', 'overall film', 'overall movie', 'overcome', 'overdone', 'overlong', 'overlook', 'overlooked', 'overly', 'overrated', 'overwhelming', 'owen', 'owned', 'owner', 'owns', 'oz', 'pace', 'paced', 'pacing', 'pacino', 'pack', 'package', 'packed', 'page', 'paid', 'pain', 'painful', 'painful watch', 'painfully', 'paint', 'painted', 'painter', 'painting', 'pair', 'pal', 'palace', 'pale', 'palma', 'paltrow', 'pan', 'panic', 'pant', 'paper', 'par', 'parade', 'paradise', 'parallel', 'paramount', 'paranoia', 'parent', 'paris', 'park', 'parker', 'parody', 'part', 'part film', 'part movie', 'part one', 'part story', 'part wa', 'partially', 'particular', 'particularly', 'partly', 'partner', 'party', 'pas', 'pass', 'passable', 'passage', 'passed', 'passenger', 'passing', 'passion', 'passionate', 'past', 'past year', 'pat', 'path', 'pathetic', 'patience', 'patient', 'patricia', 'patrick', 'pattern', 'paul', 'paulie', 'pause', 'paxton', 'pay', 'pay attention', 'paying', 'pc', 'peace', 'peak', 'pearl', 'peer', 'penguin', 'penn', 'penny', 'people', 'people actually', 'people get', 'people involved', 'people know', 'people like', 'people made', 'people movie', 'people say', 'people see', 'people think', 'people watch', 'people would', 'per', 'perception', 'perfect', 'perfect example', 'perfection', 'perfectly', 'perform', 'performance', 'performance film', 'performance wa', 'performed', 'performer', 'performing', 'performs', 'perhaps', 'perhaps wa', 'period', 'period piece', 'perry', 'person', 'persona', 'personal', 'personality', 'personally', 'perspective', 'pet', 'pete', 'peter', 'petty', 'pg', 'phantom', 'phenomenon', 'phil', 'philip', 'phillip', 'phillips', 'philosophical', 'philosophy', 'phone', 'phone call', 'phony', 'photo', 'photograph', 'photographed', 'photographer', 'photography', 'phrase', 'physical', 'physically', 'piano', 'pick', 'picked', 'picking', 'picture', 'pie', 'piece', 'piece crap', 'piece garbage', 'piece work', 'pierce', 'pierre', 'pig', 'pile', 'pilot', 'pin', 'pink', 'pioneer', 'pirate', 'pistol', 'pit', 'pitch', 'pitiful', 'pitt', 'pity', 'place', 'placed', 'plague', 'plain', 'plan', 'plane', 'planet', 'planned', 'planning', 'plant', 'plastic', 'plate', 'plausible', 'play', 'play character', 'play like', 'play part', 'play role', 'playboy', 'played', 'player', 'playing', 'pleasant', 'pleasantly', 'pleasantly surprised', 'please', 'pleased', 'pleasing', 'pleasure', 'plenty', 'plight', 'plot', 'plot character', 'plot device', 'plot film', 'plot ha', 'plot hole', 'plot line', 'plot movie', 'plot point', 'plot twist', 'plot wa', 'plus', 'pocket', 'poem', 'poet', 'poetic', 'poetry', 'poignant', 'point', 'point film', 'point movie', 'point view', 'point wa', 'pointed', 'pointless', 'poison', 'polanski', 'pole', 'police', 'police officer', 'policeman', 'policy', 'polish', 'polished', 'political', 'politically', 'politician', 'politics', 'ponyo', 'pool', 'poor', 'poor acting', 'poorly', 'poorly done', 'poorly written', 'pop', 'popcorn', 'popping', 'popular', 'popularity', 'population', 'porn', 'porno', 'pornography', 'porter', 'portion', 'portrait', 'portray', 'portrayal', 'portrayed', 'portraying', 'portrays', 'pose', 'position', 'positive', 'positively', 'posse', 'possessed', 'possession', 'possibility', 'possible', 'possibly', 'post', 'posted', 'poster', 'pot', 'potential', 'potentially', 'pound', 'poverty', 'powell', 'power', 'powerful', 'practically', 'practice', 'praise', 'prank', 'pre', 'preachy', 'precious', 'precisely', 'predator', 'predecessor', 'predict', 'predictable', 'prefer', 'preferred', 'pregnant', 'prejudice', 'premiere', 'premise', 'prepare', 'prepared', 'preposterous', 'prequel', 'presence', 'present', 'present day', 'presentation', 'presented', 'presenting', 'president', 'press', 'pressure', 'preston', 'presumably', 'pretend', 'pretending', 'pretentious', 'pretty', 'pretty bad', 'pretty cool', 'pretty funny', 'pretty good', 'pretty much', 'pretty sure', 'pretty well', 'prevent', 'preview', 'previous', 'previous film', 'previously', 'prey', 'price', 'priceless', 'pride', 'priest', 'primarily', 'primary', 'prime', 'primitive', 'prince', 'princess', 'principal', 'principle', 'print', 'prior', 'prison', 'prisoner', 'private', 'prize', 'pro', 'probably', 'probably best', 'probably one', 'probably would', 'problem', 'problem film', 'problem movie', 'problem wa', 'proceeding', 'proceeds', 'process', 'produce', 'produced', 'producer', 'producer director', 'producing', 'product', 'production', 'production value', 'production wa', 'prof', 'profanity', 'profession', 'professional', 'professor', 'profit', 'profound', 'program', 'programme', 'progress', 'project', 'prom', 'prominent', 'promise', 'promised', 'promising', 'proof', 'prop', 'propaganda', 'proper', 'properly', 'property', 'proportion', 'prostitute', 'protagonist', 'protect', 'proud', 'prove', 'proved', 'provide', 'provided', 'provides', 'providing', 'proving', 'provocative', 'provoking', 'pseudo', 'psychiatrist', 'psychic', 'psycho', 'psychological', 'psychology', 'psychopath', 'psychotic', 'public', 'pull', 'pulled', 'pulling', 'pulp', 'pulp fiction', 'pun', 'punch', 'punishment', 'punk', 'puppet', 'puppy', 'purchase', 'purchased', 'pure', 'purely', 'purple', 'purpose', 'pursuit', 'push', 'pushed', 'pushing', 'put', 'put film', 'put together', 'putting', 'puzzle', 'quaid', 'quality', 'quality film', 'quality movie', 'quarter', 'queen', 'quentin', 'quest', 'question', 'questionable', 'quick', 'quickly', 'quiet', 'quietly', 'quinn', 'quirky', 'quit', 'quite', 'quite bit', 'quite funny', 'quite good', 'quite possibly', 'quite well', 'quote', 'rabbit', 'race', 'rachel', 'racial', 'racing', 'racism', 'racist', 'radio', 'rage', 'rain', 'raise', 'raised', 'raising', 'ralph', 'rambo', 'ran', 'ranch', 'randolph', 'random', 'randomly', 'randy', 'range', 'ranger', 'rank', 'rant', 'rap', 'rape', 'raped', 'rapid', 'rapist', 'rare', 'rarely', 'rat', 'rate', 'rate movie', 'rated', 'rather', 'rating', 'raw', 'ray', 'raymond', 'razor', 'rd', 'reach', 'reached', 'reaching', 'react', 'reaction', 'read', 'read book', 'read review', 'reader', 'reading', 'ready', 'real', 'real life', 'real people', 'real story', 'real world', 'realise', 'realised', 'realism', 'realistic', 'reality', 'reality show', 'realization', 'realize', 'realized', 'realizes', 'realizing', 'really', 'really bad', 'really care', 'really cool', 'really doe', 'really enjoy', 'really enjoyed', 'really feel', 'really funny', 'really get', 'really good', 'really great', 'really hard', 'really know', 'really like', 'really liked', 'really love', 'really made', 'really make', 'really much', 'really need', 'really really', 'really see', 'really think', 'really wa', 'really want', 'really wanted', 'really well', 'really worth', 'realm', 'rear', 'reason', 'reason film', 'reason movie', 'reason see', 'reason watch', 'reasonable', 'reasonably', 'rebel', 'recall', 'receive', 'received', 'receives', 'recent', 'recently', 'recognition', 'recognizable', 'recognize', 'recognized', 'recommend', 'recommend anyone', 'recommend film', 'recommend movie', 'recommendation', 'recommended', 'record', 'recorded', 'recording', 'recycled', 'red', 'redeem', 'redeeming', 'redeeming quality', 'redemption', 'reduced', 'reed', 'reef', 'reel', 'refer', 'reference', 'referred', 'referring', 'refers', 'reflect', 'reflection', 'reflects', 'refreshing', 'refuse', 'refused', 'regard', 'regarded', 'regarding', 'regardless', 'region', 'regret', 'regular', 'reign', 'reject', 'rejected', 'relate', 'related', 'relation', 'relationship', 'relative', 'relatively', 'relax', 'release', 'released', 'released dvd', 'relevant', 'relief', 'relies', 'religion', 'religious', 'reluctant', 'rely', 'remain', 'remained', 'remaining', 'remains', 'remake', 'remark', 'remarkable', 'remarkably', 'remember', 'remember seeing', 'remember wa', 'remembered', 'remembers', 'remind', 'reminded', 'reminder', 'reminds', 'reminiscent', 'remote', 'remotely', 'remove', 'removed', 'render', 'rendered', 'rendition', 'rent', 'rent movie', 'rental', 'rented', 'rented movie', 'renting', 'repeat', 'repeated', 'repeatedly', 'repeating', 'repetitive', 'replace', 'replaced', 'reply', 'report', 'reporter', 'represent', 'representation', 'represented', 'represents', 'reputation', 'request', 'require', 'required', 'requires', 'rescue', 'research', 'resemblance', 'resemble', 'resembles', 'resident', 'resist', 'resolution', 'resolved', 'resort', 'resource', 'respect', 'respectable', 'respected', 'respective', 'response', 'responsibility', 'responsible', 'rest', 'rest cast', 'rest film', 'rest movie', 'restaurant', 'restored', 'restrained', 'result', 'resulting', 'retarded', 'retired', 'return', 'returned', 'returning', 'reunion', 'reveal', 'revealed', 'revealing', 'reveals', 'revelation', 'revenge', 'review', 'review film', 'review movie', 'reviewer', 'revolution', 'revolutionary', 'revolves', 'revolves around', 'reward', 'rewarding', 'rex', 'reynolds', 'rhett', 'rhythm', 'rich', 'richard', 'richards', 'richardson', 'rick', 'rid', 'ridden', 'ride', 'rider', 'ridiculous', 'ridiculously', 'riding', 'rifle', 'right', 'right away', 'right wrong', 'ring', 'riot', 'rip', 'ripped', 'ripping', 'rise', 'rising', 'risk', 'rita', 'ritter', 'ritual', 'rival', 'river', 'riveting', 'road', 'rob', 'robber', 'robbery', 'robbins', 'robert', 'robin', 'robin hood', 'robin williams', 'robinson', 'robot', 'rochester', 'rock', 'rock roll', 'rocket', 'rocky', 'rod', 'roger', 'roger corman', 'rogers', 'role', 'role film', 'role movie', 'role wa', 'role well', 'roll', 'rolled', 'roller', 'rolling', 'roman', 'romance', 'romantic', 'romantic comedy', 'rome', 'romeo', 'romero', 'romp', 'ron', 'ronald', 'roof', 'room', 'roommate', 'root', 'rope', 'rose', 'rosemary', 'ross', 'roth', 'rotten', 'rough', 'round', 'rourke', 'route', 'routine', 'row', 'roy', 'royal', 'rubber', 'rubbish', 'ruby', 'rude', 'ruin', 'ruined', 'rule', 'run', 'run away', 'runner', 'running', 'running around', 'running time', 'rupert', 'rural', 'rush', 'rushed', 'russell', 'russia', 'russian', 'russo', 'rusty', 'ruth', 'ruthless', 'ryan', 'sacrifice', 'sad', 'sadistic', 'sadly', 'sadness', 'safe', 'safety', 'saga', 'said', 'said movie', 'said wa', 'sailor', 'saint', 'sake', 'sale', 'sally', 'salman', 'salt', 'sam', 'samantha', 'samuel', 'samurai', 'san', 'san francisco', 'sand', 'sander', 'sandler', 'sandra', 'sandra bullock', 'sandy', 'santa', 'sappy', 'sara', 'sarah', 'sarandon', 'sat', 'satan', 'satire', 'satirical', 'satisfied', 'satisfy', 'satisfying', 'saturday', 'saturday night', 'savage', 'save', 'save day', 'save money', 'saved', 'saving', 'saving grace', 'saw', 'saw film', 'saw movie', 'saw wa', 'say', 'say anything', 'say film', 'say least', 'say movie', 'say much', 'say one', 'say something', 'say wa', 'saying', 'scale', 'scare', 'scarecrow', 'scared', 'scarlett', 'scary', 'scary movie', 'scenario', 'scene', 'scene end', 'scene film', 'scene ha', 'scene involving', 'scene like', 'scene make', 'scene movie', 'scene one', 'scene really', 'scene scene', 'scene wa', 'scene would', 'scenery', 'scheme', 'schlock', 'school', 'school student', 'sci', 'sci fi', 'science', 'science fiction', 'scientific', 'scientist', 'scifi', 'scooby', 'scooby doo', 'scope', 'score', 'scorsese', 'scotland', 'scott', 'scottish', 'scratch', 'scream', 'screaming', 'screen', 'screen time', 'screening', 'screenplay', 'screenwriter', 'screw', 'screwed', 'script', 'script bad', 'script wa', 'scripted', 'scriptwriter', 'se', 'sea', 'seagal', 'seal', 'sean', 'sean connery', 'search', 'searching', 'season', 'seat', 'second', 'second half', 'second time', 'secondary', 'secondly', 'secret', 'secretary', 'secretly', 'section', 'security', 'see', 'see film', 'see good', 'see great', 'see many', 'see movie', 'see much', 'see one', 'see people', 'see something', 'see wa', 'seed', 'seeing', 'seeing film', 'seeing movie', 'seek', 'seeking', 'seem', 'seem like', 'seemed', 'seemed like', 'seeming', 'seemingly', 'seems', 'seems like', 'seen', 'seen film', 'seen life', 'seen long', 'seen lot', 'seen many', 'seen movie', 'seen one', 'seen wa', 'seen year', 'segment', 'seldom', 'selection', 'self', 'self indulgent', 'selfish', 'sell', 'seller', 'selling', 'semi', 'send', 'sending', 'sends', 'senior', 'sens', 'sense', 'sense humor', 'senseless', 'sensibility', 'sensitive', 'sent', 'sentence', 'sentiment', 'sentimental', 'separate', 'september', 'sequel', 'sequence', 'serf', 'sergeant', 'serial', 'serial killer', 'series', 'series wa', 'serious', 'seriously', 'servant', 'serve', 'served', 'service', 'serving', 'session', 'set', 'set design', 'set piece', 'setting', 'settle', 'setup', 'seven', 'seventy', 'several', 'several time', 'several year', 'severe', 'severely', 'sex', 'sex scene', 'sexual', 'sexuality', 'sexually', 'sexy', 'seymour', 'sf', 'sh', 'shade', 'shadow', 'shake', 'shakespeare', 'shaking', 'shaky', 'shall', 'shallow', 'shame', 'shape', 'share', 'shared', 'sharing', 'shark', 'sharp', 'shatner', 'shaw', 'shed', 'sheen', 'sheer', 'sheet', 'shelf', 'shell', 'shepherd', 'sheriff', 'sherlock', 'shift', 'shine', 'shining', 'ship', 'shirley', 'shirt', 'shock', 'shocked', 'shocking', 'shoddy', 'shoe', 'shoot', 'shooting', 'shootout', 'shop', 'shore', 'short', 'short film', 'short story', 'shortcoming', 'shorter', 'shortly', 'shot', 'shotgun', 'shoulder', 'shout', 'shouting', 'show', 'show ever', 'show great', 'show ha', 'show like', 'show movie', 'show one', 'show really', 'show wa', 'showcase', 'showdown', 'showed', 'shower', 'showing', 'shown', 'showtime', 'shut', 'shy', 'sibling', 'sick', 'sickening', 'sid', 'side', 'side story', 'sidekick', 'sidney', 'sight', 'sign', 'signed', 'significance', 'significant', 'silence', 'silent', 'silent film', 'silliness', 'silly', 'silver', 'similar', 'similarity', 'similarly', 'simmons', 'simon', 'simple', 'simplicity', 'simplistic', 'simply', 'simpson', 'simultaneously', 'sin', 'sinatra', 'since', 'since wa', 'sincere', 'sincerely', 'sing', 'singer', 'singing', 'single', 'sings', 'sinister', 'sink', 'sinking', 'sir', 'sister', 'sit', 'sit back', 'sitcom', 'site', 'sits', 'sitting', 'situation', 'six', 'sixty', 'size', 'skeleton', 'sketch', 'skill', 'skin', 'skip', 'skit', 'skull', 'sky', 'slap', 'slapstick', 'slasher', 'slasher film', 'slasher flick', 'slasher movie', 'slaughter', 'slave', 'sleaze', 'sleazy', 'sleep', 'sleeping', 'slice', 'slick', 'slide', 'slight', 'slightest', 'slightly', 'slimy', 'slip', 'sloppy', 'slow', 'slow motion', 'slow moving', 'slowly', 'small', 'small role', 'small town', 'smaller', 'smart', 'smash', 'smell', 'smile', 'smiling', 'smith', 'smoke', 'smoking', 'smooth', 'snake', 'sneak', 'snipe', 'snl', 'snow', 'snowman', 'snuff', 'soap', 'soap opera', 'soccer', 'social', 'social commentary', 'society', 'soft', 'soft core', 'sold', 'soldier', 'sole', 'solely', 'solid', 'solo', 'solution', 'solve', 'somebody', 'someday', 'somehow', 'someone', 'someone else', 'someone ha', 'someone like', 'something', 'something different', 'something else', 'something like', 'something new', 'something wa', 'sometime', 'sometimes', 'somewhat', 'somewhere', 'son', 'song', 'soon', 'sooner', 'sophisticated', 'soprano', 'sorry', 'sort', 'sort thing', 'soul', 'sound', 'sound effect', 'sound like', 'sound track', 'sounded', 'sounded like', 'sounding', 'soundtrack', 'source', 'south', 'south park', 'southern', 'soviet', 'space', 'spaceship', 'spacey', 'spade', 'spaghetti', 'spain', 'span', 'spanish', 'spare', 'spark', 'speak', 'speaking', 'speaks', 'special', 'special effect', 'specially', 'specie', 'specific', 'specifically', 'spectacle', 'spectacular', 'speech', 'speed', 'spell', 'spend', 'spend time', 'spending', 'spends', 'spent', 'spider', 'spielberg', 'spike', 'spin', 'spiral', 'spirit', 'spirited', 'spiritual', 'spit', 'spite', 'splatter', 'splendid', 'split', 'spock', 'spoil', 'spoiled', 'spoiler', 'spoiler ahead', 'spoiler alert', 'spoke', 'spoken', 'spoof', 'spooky', 'sport', 'spot', 'spread', 'spree', 'spring', 'spy', 'squad', 'square', 'st', 'st century', 'stab', 'stack', 'staff', 'stage', 'staged', 'stair', 'stake', 'stale', 'stallone', 'stan', 'stand', 'standard', 'standing', 'stanley', 'stanwyck', 'star', 'star film', 'star movie', 'star trek', 'star war', 'stardom', 'stare', 'staring', 'stark', 'starred', 'starring', 'start', 'start finish', 'started', 'started watching', 'starting', 'state', 'stated', 'statement', 'static', 'station', 'statue', 'status', 'stay', 'stay away', 'stayed', 'staying', 'steady', 'steal', 'steal show', 'stealing', 'steel', 'steer', 'stellar', 'step', 'stephen', 'stephen king', 'stereotype', 'stereotypical', 'steve', 'steven', 'stevens', 'stewart', 'stick', 'sticking', 'stiff', 'still', 'still alive', 'still good', 'still ha', 'still love', 'still think', 'stiller', 'stilted', 'stink', 'stinker', 'stock', 'stock footage', 'stole', 'stolen', 'stomach', 'stone', 'stood', 'stooge', 'stop', 'stopped', 'stopping', 'store', 'storm', 'story', 'story character', 'story could', 'story even', 'story film', 'story go', 'story good', 'story great', 'story ha', 'story like', 'story line', 'story make', 'story movie', 'story one', 'story really', 'story take', 'story telling', 'story told', 'story two', 'story wa', 'story well', 'story would', 'storyline', 'storytelling', 'straight', 'straight video', 'straightforward', 'stranded', 'strange', 'strangely', 'stranger', 'stream', 'streep', 'street', 'streisand', 'strength', 'stress', 'stretch', 'strictly', 'strike', 'striking', 'string', 'strip', 'stroke', 'strong', 'stronger', 'strongest', 'strongly', 'strongly recommend', 'struck', 'structure', 'struggle', 'struggling', 'stuart', 'stuck', 'student', 'studied', 'studio', 'study', 'studying', 'stuff', 'stuff like', 'stumble', 'stumbled', 'stunned', 'stunning', 'stunt', 'stupid', 'stupid movie', 'stupidity', 'style', 'stylish', 'sub', 'sub par', 'sub plot', 'subject', 'subject matter', 'subjected', 'sublime', 'submarine', 'subplot', 'subplots', 'subsequent', 'substance', 'subtitle', 'subtle', 'subtlety', 'subtly', 'suburban', 'succeed', 'succeeded', 'succeeds', 'success', 'successful', 'successfully', 'suck', 'sucked', 'sucker', 'sudden', 'suddenly', 'sue', 'suffer', 'suffered', 'suffering', 'suffers', 'suffice', 'sugar', 'suggest', 'suggested', 'suggestion', 'suggests', 'suicide', 'suit', 'suitable', 'suited', 'sullivan', 'sum', 'summary', 'summer', 'sun', 'sunday', 'sung', 'sunny', 'sunshine', 'super', 'superb', 'superbly', 'superficial', 'superhero', 'superior', 'superman', 'supernatural', 'supply', 'support', 'supported', 'supporting', 'supporting actor', 'supporting cast', 'supporting character', 'supporting role', 'suppose', 'supposed', 'supposedly', 'supreme', 'sure', 'sure wa', 'surely', 'surface', 'surfing', 'surgery', 'surprise', 'surprised', 'surprising', 'surprisingly', 'surprisingly good', 'surreal', 'surround', 'surrounded', 'surrounding', 'surroundings', 'survival', 'survive', 'survived', 'survives', 'surviving', 'survivor', 'susan', 'suspect', 'suspend', 'suspense', 'suspenseful', 'suspension', 'suspicion', 'suspicious', 'sutherland', 'swallow', 'swear', 'swedish', 'sweet', 'swim', 'swimming', 'swing', 'switch', 'sword', 'sydney', 'symbol', 'symbolic', 'symbolism', 'sympathetic', 'sympathy', 'syndrome', 'synopsis', 'system', 'table', 'tackle', 'tacky', 'tactic', 'tad', 'tag', 'tail', 'take', 'take away', 'take back', 'take care', 'take place', 'take seriously', 'take time', 'taken', 'taken seriously', 'taking', 'taking place', 'tale', 'talent', 'talented', 'talented actor', 'talk', 'talked', 'talkie', 'talking', 'tall', 'tame', 'tank', 'tap', 'tape', 'tarantino', 'target', 'tarzan', 'task', 'taste', 'tasteless', 'taught', 'tax', 'taxi', 'taylor', 'tea', 'teach', 'teacher', 'teaching', 'team', 'tear', 'tech', 'technical', 'technically', 'technique', 'technology', 'ted', 'tedious', 'teen', 'teenage', 'teenager', 'teeth', 'television', 'television show', 'tell', 'tell story', 'tell wa', 'telling', 'telling story', 'temple', 'ten', 'ten minute', 'ten year', 'tenant', 'tend', 'tendency', 'tender', 'tends', 'tense', 'tension', 'term', 'terminator', 'terrible', 'terrible acting', 'terrible film', 'terrible movie', 'terribly', 'terrific', 'terrified', 'terrifying', 'territory', 'terror', 'terrorist', 'terry', 'test', 'testament', 'texas', 'text', 'th', 'th century', 'thank', 'thank god', 'thankfully', 'thanks', 'thats', 'theater', 'theater wa', 'theatre', 'theatrical', 'theatrical release', 'theme', 'theme song', 'themed', 'theory', 'therefore', 'thick', 'thief', 'thin', 'thing', 'thing come', 'thing could', 'thing ever', 'thing film', 'thing get', 'thing go', 'thing going', 'thing happen', 'thing like', 'thing make', 'thing movie', 'thing really', 'thing say', 'thing wa', 'thing would', 'think', 'think could', 'think film', 'think good', 'think movie', 'think one', 'think people', 'think wa', 'think would', 'thinking', 'thinking wa', 'third', 'thirty', 'thomas', 'thompson', 'thoroughly', 'thoroughly enjoyed', 'though', 'though film', 'though movie', 'though wa', 'thought', 'thought film', 'thought movie', 'thought provoking', 'thought wa', 'thought would', 'thoughtful', 'thousand', 'thread', 'threat', 'threatening', 'threatens', 'three', 'three time', 'three year', 'threw', 'thrill', 'thrilled', 'thriller', 'thrilling', 'throat', 'throughout', 'throughout entire', 'throughout film', 'throughout movie', 'throw', 'throwing', 'thrown', 'thru', 'thrust', 'thug', 'thumb', 'thus', 'ticket', 'tie', 'tied', 'tiger', 'tight', 'till', 'tim', 'time', 'time also', 'time around', 'time even', 'time favorite', 'time film', 'time get', 'time go', 'time ha', 'time like', 'time money', 'time movie', 'time one', 'time period', 'time really', 'time saw', 'time see', 'time seen', 'time since', 'time still', 'time think', 'time time', 'time travel', 'time wa', 'time watch', 'time watching', 'time would', 'time year', 'timeless', 'timing', 'timothy', 'tiny', 'tip', 'tired', 'tiresome', 'titanic', 'title', 'title brazil', 'title character', 'title role', 'titled', 'today', 'today standard', 'todd', 'toe', 'together', 'toilet', 'told', 'tom', 'tom hank', 'tomato', 'tommy', 'tomorrow', 'ton', 'tone', 'tongue', 'tongue cheek', 'toni', 'tonight', 'tony', 'took', 'took place', 'tool', 'top', 'top notch', 'topic', 'topless', 'torn', 'toronto', 'torture', 'tortured', 'tossed', 'total', 'totally', 'touch', 'touched', 'touching', 'tough', 'tough guy', 'tour', 'tourist', 'toward', 'toward end', 'towards', 'towards end', 'tower', 'town', 'toy', 'trace', 'track', 'tracking', 'tracy', 'trade', 'trademark', 'tradition', 'traditional', 'traffic', 'tragedy', 'tragic', 'trail', 'trailer', 'train', 'train wreck', 'trained', 'training', 'trait', 'tramp', 'transfer', 'transformation', 'transformed', 'transition', 'translated', 'translation', 'trap', 'trapped', 'trash', 'trashy', 'trauma', 'travel', 'traveling', 'travesty', 'travis', 'travolta', 'treasure', 'treat', 'treated', 'treatment', 'tree', 'trek', 'tremendous', 'trend', 'trial', 'triangle', 'tribe', 'tribute', 'trick', 'tried', 'trilogy', 'trio', 'trip', 'tripe', 'trite', 'triumph', 'trivia', 'troma', 'troop', 'trouble', 'troubled', 'truck', 'true', 'true life', 'true love', 'true story', 'truly', 'truly awful', 'trust', 'truth', 'try', 'try find', 'try get', 'try hard', 'try make', 'trying', 'trying find', 'trying get', 'trying hard', 'trying make', 'tube', 'tune', 'tunnel', 'turd', 'turkey', 'turkish', 'turn', 'turned', 'turner', 'turning', 'tv', 'tv movie', 'tv series', 'tv show', 'twelve', 'twenty', 'twenty minute', 'twenty year', 'twice', 'twilight', 'twilight zone', 'twin', 'twist', 'twist end', 'twist turn', 'twisted', 'two', 'two character', 'two different', 'two film', 'two girl', 'two guy', 'two hour', 'two lead', 'two main', 'two men', 'two movie', 'two people', 'two star', 'two thing', 'two three', 'two woman', 'two year', 'two young', 'tyler', 'type', 'type film', 'type movie', 'typical', 'typically', 'ugh', 'ugly', 'uh', 'uk', 'ultimate', 'ultimately', 'ultra', 'un', 'unable', 'unaware', 'unbearable', 'unbelievable', 'unbelievably', 'uncle', 'uncomfortable', 'unconvincing', 'uncut', 'undead', 'undercover', 'underdog', 'underground', 'underlying', 'underneath', 'underrated', 'understand', 'understandable', 'understanding', 'understands', 'understated', 'understood', 'underwater', 'underworld', 'undoubtedly', 'uneven', 'unexpected', 'unexpectedly', 'unfair', 'unfold', 'unfolds', 'unforgettable', 'unfortunate', 'unfortunately', 'unfunny', 'unhappy', 'uniform', 'uniformly', 'uninspired', 'unintentional', 'unintentionally', 'uninteresting', 'union', 'unique', 'unit', 'united', 'united state', 'universal', 'universe', 'university', 'unknown', 'unless', 'unlikable', 'unlike', 'unlikeable', 'unlikely', 'unnecessary', 'unoriginal', 'unpleasant', 'unpredictable', 'unreal', 'unrealistic', 'unrelated', 'unseen', 'unsettling', 'unsuspecting', 'unusual', 'unwatchable', 'uplifting', 'upon', 'upper', 'ups', 'upset', 'upside', 'urban', 'urge', 'us', 'usa', 'use', 'used', 'useful', 'useless', 'user', 'using', 'usual', 'usually', 'utter', 'utterly', 'uwe', 'uwe boll', 'vacation', 'vague', 'vaguely', 'vain', 'valentine', 'valley', 'valuable', 'value', 'vampire', 'van', 'van damme', 'vanity', 'variation', 'variety', 'various', 'vast', 'vastly', 'vega', 'vehicle', 'vein', 'velvet', 'vengeance', 'venice', 'venture', 'vera', 'verhoeven', 'version', 'version wa', 'versus', 'vet', 'veteran', 'vhs', 'via', 'vibrant', 'vice', 'vicious', 'victim', 'victor', 'victoria', 'victorian', 'victory', 'video', 'video game', 'video store', 'vietnam', 'view', 'viewed', 'viewer', 'viewing', 'viewpoint', 'vignette', 'village', 'villain', 'vince', 'vincent', 'violence', 'violent', 'virgin', 'virginia', 'virtual', 'virtually', 'virtue', 'virus', 'visible', 'vision', 'visit', 'visited', 'visiting', 'visitor', 'visual', 'visual effect', 'visually', 'visuals', 'vital', 'vivid', 'vocal', 'voice', 'voiced', 'voight', 'volume', 'von', 'voodoo', 'vote', 'voted', 'voyage', 'vulgar', 'vulnerable', 'wa', 'wa able', 'wa absolutely', 'wa actually', 'wa almost', 'wa already', 'wa also', 'wa always', 'wa amazing', 'wa another', 'wa awesome', 'wa awful', 'wa bad', 'wa based', 'wa beautiful', 'wa best', 'wa better', 'wa big', 'wa bit', 'wa bored', 'wa boring', 'wa born', 'wa brilliant', 'wa complete', 'wa completely', 'wa decent', 'wa definitely', 'wa directed', 'wa disappointed', 'wa done', 'wa enough', 'wa entertaining', 'wa even', 'wa ever', 'wa excellent', 'wa excited', 'wa expecting', 'wa extremely', 'wa fact', 'wa fantastic', 'wa far', 'wa film', 'wa filmed', 'wa fine', 'wa first', 'wa forced', 'wa fun', 'wa funny', 'wa given', 'wa going', 'wa good', 'wa great', 'wa hard', 'wa hilarious', 'wa hoping', 'wa horrible', 'wa huge', 'wa impressed', 'wa intended', 'wa interesting', 'wa kid', 'wa killed', 'wa kind', 'wa last', 'wa left', 'wa like', 'wa little', 'wa looking', 'wa lot', 'wa made', 'wa meant', 'wa movie', 'wa much', 'wa never', 'wa nice', 'wa nominated', 'wa nothing', 'wa obviously', 'wa ok', 'wa okay', 'wa one', 'wa originally', 'wa part', 'wa perfect', 'wa playing', 'wa pleasantly', 'wa point', 'wa poor', 'wa predictable', 'wa pretty', 'wa probably', 'wa put', 'wa quite', 'wa rather', 'wa real', 'wa really', 'wa released', 'wa right', 'wa set', 'wa shot', 'wa shown', 'wa simply', 'wa something', 'wa still', 'wa stupid', 'wa superb', 'wa supposed', 'wa surprised', 'wa terrible', 'wa thinking', 'wa time', 'wa totally', 'wa truly', 'wa trying', 'wa used', 'wa wa', 'wa watching', 'wa way', 'wa well', 'wa wonderful', 'wa worst', 'wa worth', 'wa written', 'wa wrong', 'wa year', 'wa young', 'wacky', 'wagner', 'wagon', 'wait', 'wait see', 'waited', 'waiting', 'waitress', 'wake', 'walk', 'walk away', 'walked', 'walken', 'walker', 'walking', 'wall', 'wallace', 'walsh', 'walt', 'walter', 'wander', 'wandering', 'wanders', 'wang', 'wanna', 'wannabe', 'want', 'want get', 'want go', 'want good', 'want know', 'want make', 'want see', 'want watch', 'wanted', 'wanted like', 'wanted see', 'wanting', 'war', 'war film', 'war ii', 'war movie', 'ward', 'warden', 'wardrobe', 'warm', 'warming', 'warmth', 'warn', 'warned', 'warner', 'warning', 'warrant', 'warren', 'warrior', 'washed', 'washington', 'waste', 'waste money', 'waste time', 'wasted', 'wasting', 'wasting time', 'watch', 'watch film', 'watch movie', 'watch one', 'watch show', 'watch wa', 'watchable', 'watched', 'watched film', 'watched movie', 'watched wa', 'watcher', 'watching', 'watching film', 'watching movie', 'watching wa', 'water', 'watson', 'wave', 'wax', 'way', 'way back', 'way film', 'way get', 'way life', 'way make', 'way movie', 'way much', 'way one', 'way wa', 'wayne', 'weak', 'weakest', 'weakness', 'wealth', 'wealthy', 'weapon', 'wear', 'wearing', 'weather', 'web', 'website', 'wedding', 'week', 'weekend', 'weight', 'weird', 'welcome', 'well', 'well acted', 'well cast', 'well developed', 'well directed', 'well done', 'well enough', 'well film', 'well know', 'well known', 'well made', 'well movie', 'well one', 'well thought', 'well wa', 'well worth', 'well written', 'welles', 'wendy', 'went', 'went see', 'werewolf', 'wes', 'wesley', 'west', 'western', 'wet', 'whale', 'whatever', 'whats', 'whatsoever', 'wheel', 'whenever', 'whereas', 'whether', 'whilst', 'white', 'whoever', 'whole', 'whole family', 'whole film', 'whole lot', 'whole movie', 'whole story', 'whole thing', 'whole time', 'wholly', 'whore', 'whose', 'wicked', 'wide', 'widely', 'widescreen', 'widmark', 'widow', 'wife', 'wig', 'wild', 'wilder', 'wilderness', 'wildly', 'william', 'williams', 'willing', 'willis', 'wilson', 'win', 'wind', 'window', 'wine', 'wing', 'winner', 'winning', 'winter', 'wire', 'wisdom', 'wise', 'wish', 'wish could', 'wished', 'wishing', 'wit', 'witch', 'within', 'within first', 'without', 'without doubt', 'witness', 'witnessed', 'witty', 'wizard', 'wolf', 'woman', 'woman ha', 'woman wa', 'wonder', 'wondered', 'wonderful', 'wonderful film', 'wonderful movie', 'wonderfully', 'wondering', 'wong', 'wont', 'woo', 'wood', 'wooden', 'woody', 'woody allen', 'word', 'wore', 'work', 'work art', 'work film', 'work wa', 'work well', 'worked', 'worker', 'working', 'working class', 'world', 'world war', 'worn', 'worried', 'worry', 'worse', 'worse movie', 'worst', 'worst ever', 'worst film', 'worst movie', 'worst part', 'worst thing', 'worth', 'worth look', 'worth seeing', 'worth time', 'worth watch', 'worth watching', 'worthless', 'worthwhile', 'worthy', 'would', 'would better', 'would come', 'would definitely', 'would even', 'would ever', 'would expect', 'would find', 'would get', 'would give', 'would given', 'would go', 'would good', 'would great', 'would happen', 'would like', 'would liked', 'would love', 'would made', 'would make', 'would much', 'would never', 'would nice', 'would probably', 'would rather', 'would really', 'would recommend', 'would say', 'would see', 'would seem', 'would still', 'would take', 'would think', 'would want', 'wound', 'wounded', 'wow', 'wrap', 'wrapped', 'wreck', 'wrenching', 'wrestler', 'wrestling', 'wretched', 'wright', 'write', 'writer', 'writer director', 'writes', 'writing', 'writing wa', 'written', 'written directed', 'wrong', 'wrong movie', 'wrote', 'wtf', 'ww', 'wwe', 'wwii', 'www', 'ya', 'yard', 'yawn', 'yeah', 'year', 'year ago', 'year earlier', 'year film', 'year later', 'year old', 'year since', 'year wa', 'yell', 'yelling', 'yellow', 'yep', 'yes', 'yesterday', 'yet', 'yet another', 'yet still', 'york', 'york city', 'young', 'young actor', 'young boy', 'young girl', 'young man', 'young men', 'young people', 'young woman', 'younger', 'youngest', 'youngster', 'youth', 'youtube', 'yr', 'zero', 'zombie', 'zombie movie', 'zone', 'zoom']\n"
          ]
        }
      ],
      "source": [
        "#Transforming all text datasets\n",
        "x_train_tfidf = vectorizer.fit_transform(train_data.text)\n",
        "x_test_tfidf = vectorizer.transform(test_data.text)\n",
        "x_dev_tfidf = vectorizer.transform(dev_data.text)\n",
        "x_param_tfidf=vectorizer.transform(param.text)\n",
        "# get_feauture_names() for a more thorough view\n",
        "print(vectorizer.get_feature_names()) "
      ]
    },
    {
      "cell_type": "code",
      "execution_count": null,
      "metadata": {
        "id": "7PznbSmRgV_x",
        "colab": {
          "base_uri": "https://localhost:8080/"
        },
        "outputId": "54214371-9ec9-4016-f479-4150e6996f49"
      },
      "outputs": [
        {
          "output_type": "stream",
          "name": "stdout",
          "text": [
            "Shape of training data: (35000, 7500)\n",
            "\n",
            "Shape of test data: (9000, 7500)\n",
            "\n",
            "Shape of dev data: (6000, 7500)\n",
            "\n",
            "Shape of param data: (41000, 7500)\n",
            "\n"
          ]
        }
      ],
      "source": [
        "print('Shape of training data: {}\\n'.format(x_train_tfidf.shape))\n",
        "print('Shape of test data: {}\\n'.format(x_test_tfidf.shape))\n",
        "print('Shape of dev data: {}\\n'.format(x_dev_tfidf.shape))\n",
        "print('Shape of param data: {}\\n'.format(x_param_tfidf.shape))\n",
        "#print(x_test_tfidf[0, :])  # Sparce matrix --> Saves only the cells which are not zero"
      ]
    },
    {
      "cell_type": "code",
      "execution_count": null,
      "metadata": {
        "id": "JvN4fI98gb48",
        "colab": {
          "base_uri": "https://localhost:8080/"
        },
        "outputId": "8c6f5e1d-d8e9-407a-99b0-472693b2a077"
      },
      "outputs": [
        {
          "output_type": "stream",
          "name": "stdout",
          "text": [
            "Sorted indexes: [(0.45427177204384384, 4228), (0.45011358961560155, 7018), (0.4074661944794319, 2307), (0.4000667902240548, 4618)]\n",
            "Best indexes: [4228, 7018, 2307, 4618]\n",
            "\n",
            "Shape of training data: (35000, 7500) --> (35000, 2500)\n",
            "Shape of test data: (9000, 7500) --> (9000, 2500)\n",
            "\n"
          ]
        }
      ],
      "source": [
        "# Number of features to keep\n",
        "k = 2500 # we tested for k= (500,1000,1500,2000,2500,3000,3750) with 1/3 of the total features we managed to get the same scores +- 1%\n",
        "\n",
        "# Convert sparse matrix to np.array --> Slow\n",
        "x_train_tfidf_array = x_train_tfidf.toarray()  \n",
        "\n",
        "# The function relies on nonparametric methods \n",
        "# based on entropy estimation from k-nearest neighbors distances\n",
        "mutual_information = mutual_info_classif(x_train_tfidf_array,train_data.sentiment, n_neighbors=5, \n",
        "                                         discrete_features=True,\n",
        "                                         random_state=4321)\n",
        "\n",
        "# Indexes of the feature columns\n",
        "indexes = np.arange(len(mutual_information))\n",
        "\n",
        "# Sort by mutual information values --> (value, idx)\n",
        "sorted_indexes = sorted(zip(mutual_information, indexes), reverse=True)\n",
        "print('Sorted indexes: {}'.format(sorted_indexes[:4]))\n",
        "\n",
        "# keep the indexes of the best k features\n",
        "best_idxs = [idx for val, idx in sorted_indexes[:k]]\n",
        "print('Best indexes: {}\\n'.format(best_idxs[:4]))\n",
        "\n",
        "# Keep only the colums of the best features\n",
        "x_train_best_tfidf = x_train_tfidf_array[:, best_idxs]\n",
        "x_test_best_tfidf = x_test_tfidf[:, best_idxs]\n",
        "x_dev_best_tfidf = x_dev_tfidf[:, best_idxs]\n",
        "print('Shape of training data: {} --> {}'.format(x_train_tfidf.shape, x_train_best_tfidf.shape))\n",
        "print('Shape of test data: {} --> {}\\n'.format(x_test_tfidf.shape, x_test_best_tfidf.shape))"
      ]
    },
    {
      "cell_type": "code",
      "execution_count": null,
      "metadata": {
        "id": "RSo7KI1JgePg"
      },
      "outputs": [],
      "source": [
        "#Replacing tfidf with the one above(k best features)\n",
        "x_train_tfidf = x_train_best_tfidf\n",
        "x_test_tfidf = x_test_best_tfidf\n",
        "x_dev_tfidf = x_dev_best_tfidf"
      ]
    },
    {
      "cell_type": "code",
      "execution_count": null,
      "metadata": {
        "id": "q99TLuMpgf4w"
      },
      "outputs": [],
      "source": [
        "#Learning Curves Init\n",
        "def F1_Curves(function,title):\n",
        "  #Split into 5 parts/Round numbers\n",
        "  parts = np.linspace(0.20,1,5)*x_train_tfidf.shape[0]\n",
        "  #Init lists\n",
        "  trainlist = []\n",
        "  testlist = []\n",
        "  devlist = []\n",
        "  for p in parts:\n",
        "    estimator = function\n",
        "    #Fit with part of the data / Increases for every loop\n",
        "    estimator.fit(x_train_tfidf[:int(p)],y_train[:int(p)])\n",
        "    #Saving scores\n",
        "    trainlist.append(f1_score(y_train[:int(p)],estimator.predict(x_train_tfidf[:int(p)]),average='macro'))\n",
        "    testlist.append(f1_score(y_test,estimator.predict(x_test_tfidf),average='macro'))\n",
        "    devlist.append(f1_score(y_dev,estimator.predict(x_dev_tfidf),average='macro'))\n",
        "  #Plotting lines\n",
        "  plt.plot(parts,trainlist,label='Train Score')\n",
        "  plt.plot(parts,testlist,label='Test Score')\n",
        "  plt.plot(parts,devlist,label='Dev Score')\n",
        "  plt.xlabel('Training Examples')\n",
        "  plt.ylabel('F1 Score')\n",
        "  plt.legend(loc='lower right')\n",
        "  plt.title('Learning Curves for '+title)\n",
        "  plt.show()"
      ]
    },
    {
      "cell_type": "code",
      "execution_count": null,
      "metadata": {
        "id": "RCV_WEdBnMOU"
      },
      "outputs": [],
      "source": [
        "#Predefined Split\n",
        "split_index =( [-1]*len(train_data))+([0]*len(dev_data))\n",
        "pds = PredefinedSplit(test_fold = split_index)\n",
        "\n",
        "from sklearn.metrics import f1_score, make_scorer\n",
        "f1 = make_scorer(f1_score , average='macro')"
      ]
    },
    {
      "cell_type": "markdown",
      "metadata": {
        "id": "EWWgDuUUkiUv"
      },
      "source": [
        "##### Dummy Classifier (1st Baseline)"
      ]
    },
    {
      "cell_type": "code",
      "execution_count": null,
      "metadata": {
        "id": "Zzb2bG8kgkPJ",
        "colab": {
          "base_uri": "https://localhost:8080/",
          "height": 487
        },
        "outputId": "3ba63ef7-5312-4d50-883b-f610cfefe306"
      },
      "outputs": [
        {
          "output_type": "stream",
          "name": "stdout",
          "text": [
            "Training took: 0.002620220184326172 seconds \n",
            "\n",
            "Train accuracy: 50.04% \n",
            "\n",
            "Dev accuracy: 50.08% \n",
            "\n",
            "Test accuracy: 49.80% \n",
            "\n",
            "#Class 0 in Train dataset: (17487,)\n",
            "#Class 1 in Train dataset: (17513,)\n",
            "\n",
            "Confusion Matrix for test data:\n"
          ]
        },
        {
          "output_type": "display_data",
          "data": {
            "image/png": "[encoded data removed]",
            "text/plain": [
              "<Figure size 432x288 with 2 Axes>"
            ]
          },
          "metadata": {
            "needs_background": "light"
          }
        }
      ],
      "source": [
        "# Train\n",
        "# The dummy classifier always predicts the 'most frequent' class\n",
        "baseline = DummyClassifier(strategy='most_frequent')\n",
        "start_time = time.time()\n",
        "baseline.fit(x_train_tfidf, train_data.sentiment)\n",
        "print(\"Training took: {} seconds \\n\".format(time.time() - start_time))\n",
        "\n",
        "# Evaluate on train,dev, and test subsets\n",
        "predictions_train = baseline.predict(x_train_tfidf)\n",
        "score = accuracy_score(train_data.sentiment, predictions_train)\n",
        "print(\"Train accuracy: {:.2f}% \\n\".format(score*100))\n",
        "\n",
        "predictions_dev = baseline.predict(x_dev_tfidf)\n",
        "score = accuracy_score(dev_data.sentiment, predictions_dev)\n",
        "print(\"Dev accuracy: {:.2f}% \\n\".format(score*100))\n",
        "\n",
        "predictions_test = baseline.predict(x_test_tfidf)\n",
        "score = accuracy_score(test_data.sentiment, predictions_test)\n",
        "print(\"Test accuracy: {:.2f}% \\n\".format(score*100))\n",
        "\n",
        "print('#Class 0 in Train dataset:', np.where(train_data.sentiment == 0)[0].shape)\n",
        "print('#Class 1 in Train dataset:', np.where(train_data.sentiment == 1)[0].shape)\n",
        "\n",
        "print(\"\\nConfusion Matrix for test data:\")\n",
        "plot_confusion_matrix(estimator=baseline, X=x_test_tfidf, y_true=test_data.sentiment, values_format = '.0f');"
      ]
    },
    {
      "cell_type": "code",
      "execution_count": null,
      "metadata": {
        "id": "X6kMB4Rskmu6",
        "colab": {
          "base_uri": "https://localhost:8080/"
        },
        "outputId": "4e0cf9b4-00ab-4b6a-b526-638bb038e01a"
      },
      "outputs": [
        {
          "output_type": "stream",
          "name": "stdout",
          "text": [
            "Dummy Classifier\n",
            "\n",
            "Train\n",
            "              precision    recall  f1-score   support\n",
            "\n",
            "           0       0.00      0.00      0.00     17487\n",
            "           1       0.50      1.00      0.67     17513\n",
            "\n",
            "    accuracy                           0.50     35000\n",
            "   macro avg       0.25      0.50      0.33     35000\n",
            "weighted avg       0.25      0.50      0.33     35000\n",
            "\n",
            "\n",
            "Dev\n",
            "              precision    recall  f1-score   support\n",
            "\n",
            "           0       0.00      0.00      0.00      2995\n",
            "           1       0.50      1.00      0.67      3005\n",
            "\n",
            "    accuracy                           0.50      6000\n",
            "   macro avg       0.25      0.50      0.33      6000\n",
            "weighted avg       0.25      0.50      0.33      6000\n",
            "\n",
            "\n",
            "Test\n",
            "              precision    recall  f1-score   support\n",
            "\n",
            "           0       0.00      0.00      0.00      4518\n",
            "           1       0.50      1.00      0.66      4482\n",
            "\n",
            "    accuracy                           0.50      9000\n",
            "   macro avg       0.25      0.50      0.33      9000\n",
            "weighted avg       0.25      0.50      0.33      9000\n",
            "\n"
          ]
        }
      ],
      "source": [
        "#Classification Report on train,dev,test datasets.\n",
        "\n",
        "print('Dummy Classifier')\n",
        "print('')\n",
        "print('Train')\n",
        "print(classification_report(y_train,predictions_train))\n",
        "print('')\n",
        "print('Dev')\n",
        "print(classification_report(y_dev,predictions_dev))\n",
        "print('')\n",
        "print('Test')\n",
        "print(classification_report(y_test,predictions_test))"
      ]
    },
    {
      "cell_type": "code",
      "execution_count": null,
      "metadata": {
        "id": "NFVDCQVFknWh",
        "colab": {
          "base_uri": "https://localhost:8080/"
        },
        "outputId": "70337be9-370f-4d22-de3d-bb3b2d0a8f22"
      },
      "outputs": [
        {
          "output_type": "stream",
          "name": "stdout",
          "text": [
            "Training AUC score =  0.5\n",
            "Dev AUC score =  0.5\n",
            "Test AUC score =  0.5\n"
          ]
        }
      ],
      "source": [
        "#Roc scores\n",
        "print('Training AUC score = ',roc_auc_score(y_train,predictions_train))\n",
        "print('Dev AUC score = ',roc_auc_score(y_dev,predictions_dev))\n",
        "print('Test AUC score = ',roc_auc_score(y_test,predictions_test))"
      ]
    },
    {
      "cell_type": "code",
      "execution_count": null,
      "metadata": {
        "id": "6JcOrPPfkroC",
        "colab": {
          "base_uri": "https://localhost:8080/",
          "height": 295
        },
        "outputId": "1c339a57-bdb6-4d09-a2c0-48c038ec8ff4"
      },
      "outputs": [
        {
          "output_type": "display_data",
          "data": {
            "image/png": "[encoded data removed]",
            "text/plain": [
              "<Figure size 432x288 with 1 Axes>"
            ]
          },
          "metadata": {
            "needs_background": "light"
          }
        }
      ],
      "source": [
        "F1_Curves(DummyClassifier(),'Dummy Classifier')"
      ]
    },
    {
      "cell_type": "markdown",
      "metadata": {
        "id": "sS501ycHlBeF"
      },
      "source": [
        "##### Logistic Regression (2nd Baseline)"
      ]
    },
    {
      "cell_type": "code",
      "execution_count": null,
      "metadata": {
        "id": "2mCVI_TelEEZ",
        "colab": {
          "base_uri": "https://localhost:8080/"
        },
        "outputId": "abf36203-e256-4ea7-cc00-976ba4348edd"
      },
      "outputs": [
        {
          "output_type": "stream",
          "name": "stdout",
          "text": [
            "tuned hyperparameters :(best parameters)  {'C': 10.0, 'penalty': 'l2'}\n",
            "accuracy : 0.8914944270332107\n",
            "Training took: 364.31441354751587 seconds \n",
            "\n"
          ]
        }
      ],
      "source": [
        "# Train // Approx 5 minutes\n",
        "#Grid for Grid Search\n",
        "grid={\"C\":np.logspace(-3,3,7), \"penalty\":[\"l1\",\"l2\"]}# l1 lasso l2 ridge\n",
        "\n",
        "clf = LogisticRegression(solver=\"saga\")\n",
        "clf_cv=GridSearchCV(clf,grid,cv=pds,scoring=f1)\n",
        "start_time = time.time()\n",
        "clf_cv.fit(x_param_tfidf, y_param)\n",
        "print(\"tuned hyperparameters :(best parameters) \",clf_cv.best_params_)\n",
        "print(\"accuracy :\",clf_cv.best_score_)\n",
        "print(\"Training took: {} seconds \\n\".format(time.time() - start_time))"
      ]
    },
    {
      "cell_type": "code",
      "execution_count": null,
      "metadata": {
        "id": "m6bK-QiTlLiV",
        "colab": {
          "base_uri": "https://localhost:8080/",
          "height": 418
        },
        "outputId": "4331ae42-5555-49f1-e3b7-0c1b52f784c0"
      },
      "outputs": [
        {
          "output_type": "stream",
          "name": "stdout",
          "text": [
            "Train f1-score: 91.25%\n",
            "\n",
            "Dev f1-score: 88.00% \n",
            "\n",
            "Test f1-score: 87.67% \n",
            "\n",
            "\n",
            "Confusion Matrix for test data:\n"
          ]
        },
        {
          "output_type": "display_data",
          "data": {
            "image/png": "[encoded data removed]",
            "text/plain": [
              "<Figure size 432x288 with 2 Axes>"
            ]
          },
          "metadata": {
            "needs_background": "light"
          }
        }
      ],
      "source": [
        "#Train using the best parameters from Grid Search\n",
        "clf = LogisticRegression(C=clf_cv.best_params_['C'],penalty=clf_cv.best_params_['penalty'], solver='saga' )\n",
        "clf.fit(x_train_tfidf, y_train)\n",
        "\n",
        "# Evaluate on train,dev, and test subsets \n",
        "predictions_train = clf.predict(x_train_tfidf)\n",
        "predictions_proba_train=clf.predict_proba(x_train_tfidf)\n",
        "score = f1_score(y_train,predictions_train)\n",
        "print(\"Train f1-score: {:.2f}%\\n\".format(score*100))\n",
        "\n",
        "predictions_dev = clf.predict(x_dev_tfidf)\n",
        "predictions_proba_dev=clf.predict_proba(x_dev_tfidf)\n",
        "score = f1_score(y_dev, predictions_dev)\n",
        "print(\"Dev f1-score: {:.2f}% \\n\".format(score*100))\n",
        "\n",
        "predictions_test = clf.predict(x_test_tfidf)\n",
        "predictions_proba_test=clf.predict_proba(x_test_tfidf)\n",
        "score = f1_score(y_test, predictions_test)\n",
        "print(\"Test f1-score: {:.2f}% \\n\".format(score*100))\n",
        "\n",
        "print(\"\\nConfusion Matrix for test data:\")\n",
        "plot_confusion_matrix(estimator=clf, X=x_test_tfidf, y_true=y_test, values_format = '.0f');"
      ]
    },
    {
      "cell_type": "code",
      "execution_count": null,
      "metadata": {
        "id": "wqWY_k9SlLkP",
        "colab": {
          "base_uri": "https://localhost:8080/"
        },
        "outputId": "8719021c-60bc-4b5b-c844-939953fa7d2a"
      },
      "outputs": [
        {
          "output_type": "stream",
          "name": "stdout",
          "text": [
            "Logistic Regression\n",
            "\n",
            "Train\n",
            "              precision    recall  f1-score   support\n",
            "\n",
            "           0       0.92      0.91      0.91     17487\n",
            "           1       0.91      0.92      0.91     17513\n",
            "\n",
            "    accuracy                           0.91     35000\n",
            "   macro avg       0.91      0.91      0.91     35000\n",
            "weighted avg       0.91      0.91      0.91     35000\n",
            "\n",
            "\n",
            "Dev\n",
            "              precision    recall  f1-score   support\n",
            "\n",
            "           0       0.88      0.87      0.88      2995\n",
            "           1       0.87      0.89      0.88      3005\n",
            "\n",
            "    accuracy                           0.88      6000\n",
            "   macro avg       0.88      0.88      0.88      6000\n",
            "weighted avg       0.88      0.88      0.88      6000\n",
            "\n",
            "\n",
            "Test\n",
            "              precision    recall  f1-score   support\n",
            "\n",
            "           0       0.88      0.87      0.88      4518\n",
            "           1       0.87      0.88      0.88      4482\n",
            "\n",
            "    accuracy                           0.88      9000\n",
            "   macro avg       0.88      0.88      0.88      9000\n",
            "weighted avg       0.88      0.88      0.88      9000\n",
            "\n"
          ]
        }
      ],
      "source": [
        "#Classification Report on train,dev,test datasets.\n",
        "\n",
        "print('Logistic Regression')\n",
        "print('')\n",
        "print('Train')\n",
        "print(classification_report(y_train,predictions_train))\n",
        "print('')\n",
        "print('Dev')\n",
        "print(classification_report(y_dev,predictions_dev))\n",
        "print('')\n",
        "print('Test')\n",
        "print(classification_report(y_test,predictions_test))"
      ]
    },
    {
      "cell_type": "code",
      "execution_count": null,
      "metadata": {
        "id": "Ywe5SoWQlLmR"
      },
      "outputs": [],
      "source": [
        "# #Area Under the Curve score\n",
        "\n",
        "# print('Training AUC score = ',roc_auc_score(y_train,predictions_train))\n",
        "# print('Dev AUC score = ',roc_auc_score(y_dev,predictions_dev))\n",
        "# print('Test AUC score = ',roc_auc_score(y_test,predictions_test))"
      ]
    },
    {
      "cell_type": "code",
      "execution_count": null,
      "metadata": {
        "id": "fLR_A304lO7g"
      },
      "outputs": [],
      "source": [
        "#Setting up seaborne pallete\n",
        "sns.set(rc={'figure.figsize':(11.7,8.27)})\n",
        "palette = sns.color_palette(\"bright\", 2)"
      ]
    },
    {
      "cell_type": "code",
      "execution_count": null,
      "metadata": {
        "id": "jOKThRuTlQJl",
        "colab": {
          "base_uri": "https://localhost:8080/",
          "height": 533
        },
        "outputId": "89ece761-976a-4e2e-edb4-fd25cbfb149b"
      },
      "outputs": [
        {
          "output_type": "display_data",
          "data": {
            "image/png": "[encoded data removed]",
            "text/plain": [
              "<Figure size 842.4x595.44 with 1 Axes>"
            ]
          },
          "metadata": {}
        }
      ],
      "source": [
        "F1_Curves(LogisticRegression(C=clf_cv.best_params_['C'],penalty=clf_cv.best_params_['penalty'], solver='saga'),\"Logistic Regression\")"
      ]
    },
    {
      "cell_type": "code",
      "execution_count": null,
      "metadata": {
        "id": "iCIKIknlPGHj",
        "colab": {
          "base_uri": "https://localhost:8080/"
        },
        "outputId": "65699e77-5553-4f71-905b-e9032b367676"
      },
      "outputs": [
        {
          "output_type": "stream",
          "name": "stdout",
          "text": [
            "0.9703958575382997\n",
            "0.9719373998475249\n",
            "0.9514774504330864\n",
            "0.9556773205488178\n",
            "0.9449373812941626\n",
            "0.9514542323461967\n"
          ]
        }
      ],
      "source": [
        "from sklearn.metrics import precision_recall_curve\n",
        "\n",
        "\n",
        "#Training AUC for the 2 Classes\n",
        "p,r,t = precision_recall_curve(y_train,predictions_proba_train[:,1])\n",
        "positive_area=auc(r,p)\n",
        "print(positive_area)\n",
        "\n",
        "p2,r2,t2 = precision_recall_curve(1-y_train,predictions_proba_train[:,0])\n",
        "negative_area=auc(r2,p2)\n",
        "print(negative_area)\n",
        "\n",
        "#Dev AUC for the 2 Classes\n",
        "p3,r3,t3 = precision_recall_curve(y_dev,predictions_proba_dev[:,1])\n",
        "positive_area2=auc(r3,p3)\n",
        "print(positive_area2)\n",
        "\n",
        "p4,r4,t4 = precision_recall_curve(1-y_dev,predictions_proba_dev[:,0])\n",
        "negative_area2=auc(r4,p4)\n",
        "print(negative_area2)\n",
        "\n",
        "\n",
        "#Test AUC for the 2 Classes\n",
        "p5,r5,t5 = precision_recall_curve(y_test,predictions_proba_test[:,1])\n",
        "positive_area3=auc(r5,p5)\n",
        "print(positive_area3)\n",
        "\n",
        "p6,r6,t6 = precision_recall_curve(1-y_test,predictions_proba_test[:,0])\n",
        "negative_area3=auc(r6,p6)\n",
        "print(negative_area3)"
      ]
    },
    {
      "cell_type": "markdown",
      "metadata": {
        "id": "tP-xwQrcgiRc"
      },
      "source": [
        "##### Neural Net"
      ]
    },
    {
      "cell_type": "markdown",
      "metadata": {
        "id": "cqdFbJUgs5cP"
      },
      "source": [
        "###### Hyperparameter Tuning(Keras Tuner)"
      ]
    },
    {
      "cell_type": "code",
      "execution_count": null,
      "metadata": {
        "id": "xCjEkPU3ABuj"
      },
      "outputs": [],
      "source": [
        "def build_model(hp):\n",
        "    \"\"\"\n",
        "    Builds model and sets up hyperparameter space to search.\n",
        "    \n",
        "    Parameters\n",
        "    ----------\n",
        "    hp : HyperParameter object\n",
        "        Configures hyperparameters to tune.\n",
        "        \n",
        "    Returns\n",
        "    -------\n",
        "    model : keras model\n",
        "        Compiled model with hyperparameters to tune.\n",
        "    \"\"\"\n",
        "    # Initialize sequential API and start building model.\n",
        "    model = keras.Sequential()\n",
        "    model.add(keras.layers.Flatten(input_shape=(2500,)))\n",
        "    \n",
        "    # Tune the number of hidden layers and units in each.\n",
        "    # Number of hidden layers: 1 - 3\n",
        "    # Number of Units: 32 - 512 with stepsize of 32\n",
        "    for i in range(1, hp.Int(\"num_layers\", 1, 3)):\n",
        "        model.add(\n",
        "            keras.layers.Dense(\n",
        "                units=hp.Int(\"units_\" + str(i), min_value=32, max_value=512, step=32),\n",
        "                activation=\"relu\")\n",
        "            )\n",
        "        \n",
        "        # Tune dropout layer with values from 0 - 0.5 with stepsize of 0.1.\n",
        "        model.add(keras.layers.Dropout(hp.Float(\"dropout_\" + str(i), 0.1, 0.5, step=0.1)))\n",
        "    \n",
        "    # Add output layer.\n",
        "    model.add(keras.layers.Dense(units=1, activation=\"sigmoid\"))\n",
        "    \n",
        "    # Tune learning rate for Adam optimizer with values from  0.001, or 0.0001/We run the loop for bigger learning rate values but it was too time consuming\n",
        "    #and we only kept the 2 best learning values for further development of our model.\n",
        "    hp_learning_rate = hp.Choice(\"learning_rate\", values=[1e-3, 1e-4])\n",
        "    \n",
        "    # Define optimizer, loss, and metrics\n",
        "    model.compile(optimizer=keras.optimizers.Adam(learning_rate=hp_learning_rate),\n",
        "                  loss=keras.losses.BinaryCrossentropy(),\n",
        "                  metrics=[\"accuracy\"])\n",
        "    \n",
        "    return model"
      ]
    },
    {
      "cell_type": "code",
      "execution_count": null,
      "metadata": {
        "id": "roiDaa8I7ebP"
      },
      "outputs": [],
      "source": [
        "# # Instantiate the tuner\n",
        "# #The Hyperband tuning algorithm uses adaptive resource allocation and early-stopping to quickly converge on a high-performing model\n",
        "# tuner = kt.Hyperband(build_model,\n",
        "#                      #Metric which will be used for the hyperparameter tuning\n",
        "#                      objective=\"val_accuracy\",\n",
        "#                      max_epochs=20,\n",
        "#                      #Reduction factor for the number of epochs and number of models for each bracket.\n",
        "#                      factor=3,\n",
        "#                      hyperband_iterations=10,\n",
        "#                      directory=\"kt_dir\",\n",
        "#                      project_name=\"kt_hyperband3\",)"
      ]
    },
    {
      "cell_type": "code",
      "execution_count": null,
      "metadata": {
        "id": "5C7zQR5e1cVx"
      },
      "outputs": [],
      "source": [
        "NUM_EPOCHS=20\n",
        "# tuner.search_space_summary()"
      ]
    },
    {
      "cell_type": "code",
      "execution_count": null,
      "metadata": {
        "id": "DQY46ujCCZrc"
      },
      "outputs": [],
      "source": [
        "#Initializing early-stopping\n",
        "stop_early = tf.keras.callbacks.EarlyStopping(monitor='val_loss', patience=2)\n",
        "\n",
        "# #Tuning\n",
        "# tuner.search(x_train_tfidf, y_train, epochs=NUM_EPOCHS, validation_data=(x_dev_tfidf.todense(),y_dev), callbacks=[stop_early], verbose=2)"
      ]
    },
    {
      "cell_type": "code",
      "execution_count": null,
      "metadata": {
        "id": "8ixv09c4FeZl"
      },
      "outputs": [],
      "source": [
        "# # Get the optimal hyperparameters from the results\n",
        "# best_hps=tuner.get_best_hyperparameters()[0]\n",
        "\n",
        "# # Build model\n",
        "# h_model = tuner.hypermodel.build(best_hps)\n",
        "\n",
        "# # Train the hypertuned model\n",
        "# h_model.fit(x_train_tfidf, y_train, epochs=NUM_EPOCHS, validation_split=0.2, callbacks=[stop_early], verbose=2)"
      ]
    },
    {
      "cell_type": "code",
      "execution_count": null,
      "metadata": {
        "id": "U9pj-l5XiiYp"
      },
      "outputs": [],
      "source": [
        "# #Checking model summary\n",
        "# h_model.summary()"
      ]
    },
    {
      "cell_type": "code",
      "execution_count": null,
      "metadata": {
        "id": "zoA5fWh2oAXz"
      },
      "outputs": [],
      "source": [
        "# #Classifying with our model\n",
        "# predictions_test = h_model.predict(x_test_tfidf.todense())\n",
        "# #Calculating F1 score\n",
        "# score = f1_score(y_test, np.round(predictions_test))\n",
        "\n",
        "# print(\"Test f1-score: {:.2f}% \\n\".format(score*100))\n",
        "# print(confusion_matrix(y_test, np.round(predictions_test)))"
      ]
    },
    {
      "cell_type": "code",
      "execution_count": null,
      "metadata": {
        "id": "sss3n0LiptkG"
      },
      "outputs": [],
      "source": [
        "# #Plotting confusion matrix\n",
        "# cm = confusion_matrix(y_test, np.round(predictions_test))\n",
        "# f = sns.heatmap(cm, annot=True, fmt='d')"
      ]
    },
    {
      "cell_type": "markdown",
      "metadata": {
        "id": "F-5nyVeWtBdF"
      },
      "source": [
        "###### Building the model manually(Efficient)"
      ]
    },
    {
      "cell_type": "code",
      "execution_count": null,
      "metadata": {
        "id": "ubm9RrlqqXF2",
        "colab": {
          "base_uri": "https://localhost:8080/"
        },
        "outputId": "af6a6748-f47c-44dc-bc7a-9e405c9ff9c5"
      },
      "outputs": [
        {
          "output_type": "stream",
          "name": "stdout",
          "text": [
            "Epoch 1/20\n",
            "1094/1094 - 8s - loss: 0.4376 - accuracy: 0.8131 - val_loss: 0.2767 - val_accuracy: 0.8860 - 8s/epoch - 7ms/step\n",
            "Epoch 2/20\n",
            "1094/1094 - 4s - loss: 0.2633 - accuracy: 0.8919 - val_loss: 0.2691 - val_accuracy: 0.8852 - 4s/epoch - 4ms/step\n",
            "Epoch 3/20\n",
            "1094/1094 - 4s - loss: 0.2441 - accuracy: 0.8994 - val_loss: 0.2724 - val_accuracy: 0.8835 - 4s/epoch - 4ms/step\n",
            "Epoch 4/20\n",
            "1094/1094 - 4s - loss: 0.2331 - accuracy: 0.9058 - val_loss: 0.2759 - val_accuracy: 0.8825 - 4s/epoch - 4ms/step\n",
            "1094/1094 [==============================] - 4s 3ms/step - loss: 0.2037 - accuracy: 0.9219\n",
            "Accuracy: 92.19\n"
          ]
        }
      ],
      "source": [
        "#As we are not able to run the tuning process everytime because it is too time consuming,we've stored the keras model information so as to build it from scratch.\n",
        "#Define the keras model\n",
        "model = Sequential()\n",
        "model.add(keras.layers.Flatten(input_shape=(2500,)))\n",
        "model.add(Dense(224, activation='relu'))\n",
        "model.add(Dropout(0.3))\n",
        "model.add(Dense(320, activation='relu'))\n",
        "model.add(Dropout(0.3))\n",
        "model.add(Dense(1, activation='sigmoid'))\n",
        "#Compiling the keras model\n",
        "model.compile(loss='binary_crossentropy', optimizer= Adam(learning_rate=1e-4), metrics=['accuracy'])\n",
        "#Fitting the keras model on the dataset\n",
        "history = model.fit(x_train_tfidf, y_train, epochs=NUM_EPOCHS, validation_data=(x_dev_tfidf.todense(),y_dev), callbacks=[stop_early], verbose=2)\n",
        "#Evaluating the keras model\n",
        "acc = model.evaluate(x_train_tfidf, y_train)\n",
        "print('Accuracy: %.2f' % (acc[1]*100))"
      ]
    },
    {
      "cell_type": "code",
      "execution_count": null,
      "metadata": {
        "id": "CiS72sUaEE0f",
        "colab": {
          "base_uri": "https://localhost:8080/"
        },
        "outputId": "96ffdd28-2e33-4f1b-e4c1-1f1a3c7c891a"
      },
      "outputs": [
        {
          "output_type": "stream",
          "name": "stdout",
          "text": [
            "Test f1-score: 88.07% \n",
            "\n",
            "[[3961  557]\n",
            " [ 517 3965]]\n"
          ]
        }
      ],
      "source": [
        "#Classifying with our model\n",
        "predictions_test = model.predict(x_test_tfidf.todense())\n",
        "\n",
        "#Calculating F1 score\n",
        "score = f1_score(y_test, np.round(predictions_test))\n",
        "\n",
        "print(\"Test f1-score: {:.2f}% \\n\".format(score*100))\n",
        "print(confusion_matrix(y_test, np.round(predictions_test)))"
      ]
    },
    {
      "cell_type": "code",
      "execution_count": null,
      "metadata": {
        "id": "GDcEqm1YH_I9",
        "colab": {
          "base_uri": "https://localhost:8080/",
          "height": 500
        },
        "outputId": "4650708c-ff40-42c5-f9af-8f5d627191b5"
      },
      "outputs": [
        {
          "output_type": "display_data",
          "data": {
            "image/png": "[encoded data removed]",
            "text/plain": [
              "<Figure size 842.4x595.44 with 2 Axes>"
            ]
          },
          "metadata": {}
        }
      ],
      "source": [
        "#Plotting confusion matrix\n",
        "cm = confusion_matrix(y_test, np.round(predictions_test))\n",
        "f = sns.heatmap(cm, annot=True, fmt='d')"
      ]
    },
    {
      "cell_type": "code",
      "execution_count": null,
      "metadata": {
        "id": "gHeFrEDnJ2E9",
        "colab": {
          "base_uri": "https://localhost:8080/",
          "height": 288
        },
        "outputId": "a203d162-e138-4eef-e7df-2c576d67fd62"
      },
      "outputs": [
        {
          "output_type": "display_data",
          "data": {
            "image/png": "[encoded data removed]",
            "text/plain": [
              "<Figure size 842.4x595.44 with 1 Axes>"
            ]
          },
          "metadata": {}
        }
      ],
      "source": [
        "import matplotlib.pyplot as pyplot\n",
        "#Plot loss during training/Manually adjusted patience to stop at 4 epochs\n",
        "pyplot.subplot(211)\n",
        "plt.ylim((0,0.55))\n",
        "plt.title('Loss during Epochs')\n",
        "plt.ylabel('Loss')\n",
        "plt.xlabel('Number of Epochs')\n",
        "pyplot.plot(history.history['loss'], label='train')\n",
        "pyplot.plot(history.history['val_loss'], label='dev')\n",
        "pyplot.legend();"
      ]
    },
    {
      "cell_type": "code",
      "execution_count": null,
      "metadata": {
        "id": "XeRf7tHVRk0Y",
        "colab": {
          "base_uri": "https://localhost:8080/"
        },
        "outputId": "4df4d1fb-76d1-4470-f81a-6c1b4956690b"
      },
      "outputs": [
        {
          "output_type": "stream",
          "name": "stdout",
          "text": [
            "Logistic Regression\n",
            "\n",
            "Train\n",
            "              precision    recall  f1-score   support\n",
            "\n",
            "           0       0.93      0.91      0.92     17487\n",
            "           1       0.91      0.93      0.92     17513\n",
            "\n",
            "    accuracy                           0.92     35000\n",
            "   macro avg       0.92      0.92      0.92     35000\n",
            "weighted avg       0.92      0.92      0.92     35000\n",
            "\n",
            "\n",
            "Dev\n",
            "              precision    recall  f1-score   support\n",
            "\n",
            "           0       0.89      0.87      0.88      2995\n",
            "           1       0.88      0.89      0.88      3005\n",
            "\n",
            "    accuracy                           0.88      6000\n",
            "   macro avg       0.88      0.88      0.88      6000\n",
            "weighted avg       0.88      0.88      0.88      6000\n",
            "\n",
            "\n",
            "Test\n",
            "              precision    recall  f1-score   support\n",
            "\n",
            "           0       0.88      0.88      0.88      4518\n",
            "           1       0.88      0.88      0.88      4482\n",
            "\n",
            "    accuracy                           0.88      9000\n",
            "   macro avg       0.88      0.88      0.88      9000\n",
            "weighted avg       0.88      0.88      0.88      9000\n",
            "\n"
          ]
        }
      ],
      "source": [
        "#Classification Report on train,dev,test datasets.\n",
        "print('Logistic Regression')\n",
        "print('')\n",
        "print('Train')\n",
        "print(classification_report(y_train,np.round(model.predict(x_train_tfidf))))\n",
        "print('')\n",
        "print('Dev')\n",
        "print(classification_report(y_dev,np.round(model.predict(x_dev_tfidf.todense()))))\n",
        "print('')\n",
        "print('Test')\n",
        "print(classification_report(y_test,np.round(predictions_test)))"
      ]
    },
    {
      "cell_type": "code",
      "execution_count": null,
      "metadata": {
        "id": "GLCeyHUKQAW0",
        "colab": {
          "base_uri": "https://localhost:8080/"
        },
        "outputId": "647b41e7-390a-4ecd-df35-4201764bb5dd"
      },
      "outputs": [
        {
          "output_type": "stream",
          "name": "stdout",
          "text": [
            "Train Positive 0.9744574708918998\n",
            "Train Negative 0.9756553027198278\n",
            "Dev Positive 0.952860731351516\n",
            "Dev Negative 0.9574023540298116\n",
            "Test Positive 0.9474909950335628\n",
            "Test Negative 0.9538314922134267\n"
          ]
        }
      ],
      "source": [
        "\n",
        "#Training AUC for the 2 Classes\n",
        "p,r,t = precision_recall_curve(y_train,model.predict(x_train_tfidf))\n",
        "positive_area=auc(r,p)\n",
        "print('Train Positive',positive_area)\n",
        "\n",
        "p2,r2,t2 = precision_recall_curve(1-y_train,1-model.predict(x_train_tfidf))\n",
        "negative_area=auc(r2,p2)\n",
        "print('Train Negative',negative_area)\n",
        "\n",
        "#Dev AUC for the 2 Classes\n",
        "p3,r3,t3 = precision_recall_curve(y_dev,model.predict(x_dev_tfidf.todense()))\n",
        "positive_area2=auc(r3,p3)\n",
        "print('Dev Positive',positive_area2)\n",
        "\n",
        "p4,r4,t4 = precision_recall_curve(1-y_dev,1-model.predict(x_dev_tfidf.todense()))\n",
        "negative_area2=auc(r4,p4)\n",
        "print('Dev Negative',negative_area2)\n",
        "\n",
        "\n",
        "#Test AUC for the 2 Classes\n",
        "p5,r5,t5 = precision_recall_curve(y_test,model.predict(x_test_tfidf.todense()))\n",
        "positive_area3=auc(r5,p5)\n",
        "print('Test Positive',positive_area3)\n",
        "\n",
        "p6,r6,t6 = precision_recall_curve(1-y_test,1-model.predict(x_test_tfidf.todense()))\n",
        "negative_area3=auc(r6,p6)\n",
        "print('Test Negative',negative_area3)"
      ]
    },
    {
      "cell_type": "code",
      "execution_count": null,
      "metadata": {
        "id": "0859hOwGXmQw"
      },
      "outputs": [],
      "source": [
        "# #Area Under the Curve score\n",
        "\n",
        "# print('Training AUC score = ',roc_auc_score(y_train,np.round(model.predict(x_train_tfidf))))\n",
        "# print('Dev AUC score = ',roc_auc_score(y_dev,np.round(model.predict(x_dev_tfidf.todense()))))\n",
        "# print('Test AUC score = ',roc_auc_score(y_test,predictions_test))"
      ]
    }
  ],
  "metadata": {
    "accelerator": "GPU",
    "colab": {
      "collapsed_sections": [],
      "name": "TextAnalyticsProject3.ipynb",
      "provenance": []
    },
    "kernelspec": {
      "display_name": "Python 3",
      "name": "python3"
    },
    "language_info": {
      "name": "python"
    }
  },
  "nbformat": 4,
  "nbformat_minor": 0
}